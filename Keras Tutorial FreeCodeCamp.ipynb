{
 "cells": [
  {
   "cell_type": "markdown",
   "id": "4040a959",
   "metadata": {},
   "source": [
    "The Fit function\n",
    "\n",
    "1. X parameter - input is either numpy array, tensorflow tensor, dict mapping or a keras geenerator\n",
    "2. y parameeter - labels for our samples. Target Data. Must be same format as x"
   ]
  },
  {
   "cell_type": "code",
   "execution_count": null,
   "id": "457235ca",
   "metadata": {},
   "outputs": [],
   "source": [
    "fit()"
   ]
  },
  {
   "cell_type": "markdown",
   "id": "2c006955",
   "metadata": {},
   "source": [
    "Changing to numpy array"
   ]
  },
  {
   "cell_type": "code",
   "execution_count": null,
   "id": "6cca2310",
   "metadata": {},
   "outputs": [],
   "source": [
    "name = np.array(name)"
   ]
  },
  {
   "cell_type": "markdown",
   "id": "cc0625b9",
   "metadata": {},
   "source": [
    "Shuffling the data"
   ]
  },
  {
   "cell_type": "code",
   "execution_count": null,
   "id": "52bdfe47",
   "metadata": {},
   "outputs": [],
   "source": [
    "name = shuffle(name)"
   ]
  },
  {
   "cell_type": "markdown",
   "id": "04e0ae28",
   "metadata": {},
   "source": [
    "Normalization ( between 0 to 1 )"
   ]
  },
  {
   "cell_type": "code",
   "execution_count": null,
   "id": "91454a9c",
   "metadata": {},
   "outputs": [],
   "source": [
    "scaler = MinMaxScaler(feature_range=(0,1))\n",
    "name = scaler.fit_transform(name.reshape(-1,1))\n",
    "# reshaping our data to 2D because our data was initially 1D and fit_transform acccepts only 2D data"
   ]
  },
  {
   "cell_type": "markdown",
   "id": "f48835c5",
   "metadata": {},
   "source": [
    "### Making an ANN"
   ]
  },
  {
   "cell_type": "markdown",
   "id": "26f03147",
   "metadata": {},
   "source": [
    "importing libraries"
   ]
  },
  {
   "cell_type": "code",
   "execution_count": 1,
   "id": "2f4bd806",
   "metadata": {},
   "outputs": [],
   "source": [
    "import tensorflow as tf\n",
    "from tensorflow import keras\n",
    "from tensorflow.keras.models import Sequential\n",
    "from tensorflow.keras.layers import Activation, Dense\n",
    "from tensorflow.keras.optimizers import Adam\n",
    "from tensorflow.keras.metrics import categorical_crossentropy"
   ]
  },
  {
   "cell_type": "markdown",
   "id": "ef9970d1",
   "metadata": {},
   "source": [
    "if we are running this code on gpu then"
   ]
  },
  {
   "cell_type": "code",
   "execution_count": null,
   "id": "d696f5c6",
   "metadata": {},
   "outputs": [],
   "source": [
    "physical_devices = tf.config.experimental.list_physical_devices('GPU')\n",
    "print(\"Num GPUs Available: \",len(physical_devices))"
   ]
  },
  {
   "cell_type": "code",
   "execution_count": null,
   "id": "062a9c8d",
   "metadata": {},
   "outputs": [],
   "source": [
    "tf.config.experimental.set_memory_growth(physical_devices[0],True)"
   ]
  },
  {
   "cell_type": "markdown",
   "id": "1aa674f5",
   "metadata": {},
   "source": [
    "model"
   ]
  },
  {
   "cell_type": "code",
   "execution_count": 3,
   "id": "3f5ca6ce",
   "metadata": {},
   "outputs": [],
   "source": [
    "model = Sequential([\n",
    "    Dense(units=16, input_shape=(1,),activation='relu'),\n",
    "    Dense(units=32,activation='relu'),\n",
    "    Dense(units=2,activation='sigmoid')\n",
    "])"
   ]
  },
  {
   "cell_type": "markdown",
   "id": "93372f7e",
   "metadata": {},
   "source": [
    "summary of model"
   ]
  },
  {
   "cell_type": "code",
   "execution_count": 4,
   "id": "74b459e1",
   "metadata": {},
   "outputs": [
    {
     "name": "stdout",
     "output_type": "stream",
     "text": [
      "Model: \"sequential\"\n",
      "_________________________________________________________________\n",
      " Layer (type)                Output Shape              Param #   \n",
      "=================================================================\n",
      " dense (Dense)               (None, 16)                32        \n",
      "                                                                 \n",
      " dense_1 (Dense)             (None, 32)                544       \n",
      "                                                                 \n",
      " dense_2 (Dense)             (None, 2)                 66        \n",
      "                                                                 \n",
      "=================================================================\n",
      "Total params: 642\n",
      "Trainable params: 642\n",
      "Non-trainable params: 0\n",
      "_________________________________________________________________\n"
     ]
    }
   ],
   "source": [
    "model.summary()"
   ]
  },
  {
   "cell_type": "markdown",
   "id": "cbc338da",
   "metadata": {},
   "source": [
    "preparing model for training"
   ]
  },
  {
   "cell_type": "code",
   "execution_count": null,
   "id": "0c30ee50",
   "metadata": {},
   "outputs": [],
   "source": [
    "model.compile(optimizer=Adam(learning_rate=0.0001),loss='sparse_categorical_crossentropy',metrics=['accuracy'])"
   ]
  },
  {
   "cell_type": "markdown",
   "id": "16b385a5",
   "metadata": {},
   "source": [
    "training the model"
   ]
  },
  {
   "cell_type": "code",
   "execution_count": null,
   "id": "bab5c450",
   "metadata": {},
   "outputs": [],
   "source": [
    "model.fit(x=training_samples,y=train_labels,batch_size=10,epochs=30,shuffle=True,verbose=1)\n",
    "\n",
    "# will only give loss and accuracy because we are only training not testing"
   ]
  },
  {
   "cell_type": "markdown",
   "id": "7103e5d6",
   "metadata": {},
   "source": [
    "using a validation set\n",
    "\n",
    "1. models trains first and then validates on the validation set\n"
   ]
  },
  {
   "cell_type": "markdown",
   "id": "92b4f979",
   "metadata": {},
   "source": [
    "when creating inside fit function\n",
    "\n",
    "1. validation set is separated from the end of the dataset\n",
    "2. model separates a validation set just before starting training\n",
    "3. use validation_split attribute of fit()\n",
    "\n",
    "when creating on its own\n",
    "\n",
    "1. use validation_data attribute of fit()"
   ]
  },
  {
   "cell_type": "code",
   "execution_count": null,
   "id": "45871f49",
   "metadata": {},
   "outputs": [],
   "source": [
    "model.fit(x=training_samples,y=train_labels,validation_split=0.2,batch_size=10,epochs=30,shuffle=True,verbose=1)\n",
    "\n",
    "# will give loss, accuracy, val_loss, val_accuracy as we arre also validating along with training"
   ]
  },
  {
   "cell_type": "markdown",
   "id": "2690fd29",
   "metadata": {},
   "source": [
    "using test set in predict()"
   ]
  },
  {
   "cell_type": "code",
   "execution_count": null,
   "id": "a3d73b30",
   "metadata": {},
   "outputs": [],
   "source": [
    "something = model.predict(x=test_set, batch_size=10, verbose=0)"
   ]
  },
  {
   "cell_type": "markdown",
   "id": "f3aececf",
   "metadata": {},
   "source": [
    "plot_confusion_matrix function"
   ]
  },
  {
   "cell_type": "code",
   "execution_count": null,
   "id": "8c4590e2",
   "metadata": {},
   "outputs": [],
   "source": [
    "%matplotlib inline\n",
    "from sklearn.metrics import confusion_matrix\n",
    "import itertools\n",
    "import matplotlib.pyplot as plt"
   ]
  },
  {
   "cell_type": "code",
   "execution_count": null,
   "id": "cefba315",
   "metadata": {},
   "outputs": [],
   "source": [
    "cm = confusion_matrix(y_true=y_test,y_pred=y_pred)"
   ]
  },
  {
   "cell_type": "code",
   "execution_count": null,
   "id": "b62f553b",
   "metadata": {},
   "outputs": [],
   "source": [
    "def plot_confusion_matrix(cm, classes,\n",
    "                         normalize=False,\n",
    "                         title='Confusion Matrix',\n",
    "                         cmap=plt.cm.Blues):\n",
    "    plt.imshow(cm,interpolation='nearest',cmap=cmap)\n",
    "    plt.title(title)\n",
    "    plt.colorbar()\n",
    "    tick_marks = np.arange(len(classes))\n",
    "    plt.xticks(tick_marks,classes,rotation=45)\n",
    "    plt.yticks(tick_marks,classes)\n",
    "    \n",
    "    if normalize:\n",
    "        cm = cm.astype('float')/cm.sum(axis=1)[:,np.newaxis]\n",
    "        print(\"Normalized Confusion Matrix\")\n",
    "    else:\n",
    "        print(\"Confusion Matrix, without Normalization\")\n",
    "    \n",
    "    print(cm)\n",
    "    \n",
    "    thresh = cm.max() /2\n",
    "    for i,j in itertools.product(range(cm.shape[0]),range(cm.shape[1])):\n",
    "        plt.text(j,i,cm[i,j],\n",
    "                horizontalalignment='center',\n",
    "                color=\"white\" if cm[i,j] > thresh else \"black\")\n",
    "        \n",
    "    plt.tight_layout()\n",
    "    plt.ylabel(\"True Label\")\n",
    "    plt.xlabel(\"Predicted Label\")"
   ]
  },
  {
   "cell_type": "code",
   "execution_count": null,
   "id": "1131c572",
   "metadata": {},
   "outputs": [],
   "source": [
    "cm_plot_labels=['class_1','class_2']\n",
    "plot_confusion_matrix(cm=cm, classes=cm_plot_labels,title=\"Confusion Matrix\")"
   ]
  },
  {
   "cell_type": "markdown",
   "id": "8990508f",
   "metadata": {},
   "source": [
    "## Save and Load a Model"
   ]
  },
  {
   "cell_type": "code",
   "execution_count": 5,
   "id": "321328bd",
   "metadata": {
    "scrolled": true
   },
   "outputs": [
    {
     "name": "stdout",
     "output_type": "stream",
     "text": [
      "Model: \"sequential\"\n",
      "_________________________________________________________________\n",
      " Layer (type)                Output Shape              Param #   \n",
      "=================================================================\n",
      " dense (Dense)               (None, 16)                32        \n",
      "                                                                 \n",
      " dense_1 (Dense)             (None, 32)                544       \n",
      "                                                                 \n",
      " dense_2 (Dense)             (None, 2)                 66        \n",
      "                                                                 \n",
      "=================================================================\n",
      "Total params: 642\n",
      "Trainable params: 642\n",
      "Non-trainable params: 0\n",
      "_________________________________________________________________\n"
     ]
    }
   ],
   "source": [
    "model.summary()"
   ]
  },
  {
   "cell_type": "markdown",
   "id": "d4b11d4e",
   "metadata": {},
   "source": [
    "### model.save()"
   ]
  },
  {
   "cell_type": "code",
   "execution_count": null,
   "id": "55d0b34d",
   "metadata": {},
   "outputs": [],
   "source": [
    "# Checks first if file exists already\n",
    "# if not the model s saved to disk\n",
    "import os.path\n",
    "if os.path.isfile('models/my_model_1.h5') is False:\n",
    "    model.save('models/my_model_1.h5')"
   ]
  },
  {
   "cell_type": "markdown",
   "id": "0cebb6ef",
   "metadata": {},
   "source": [
    "the save function saves:\n",
    "\n",
    "1. architecture of the model, allowing to recreate the model\n",
    "2. weights of the model\n",
    "3. training configuration (loss,optimizer)\n",
    "4. state of the optimizer, allowing to resume training exactly where you left off"
   ]
  },
  {
   "cell_type": "code",
   "execution_count": null,
   "id": "6d471745",
   "metadata": {},
   "outputs": [],
   "source": [
    "from tensorflow.keras.models import load_model\n",
    "new_model = load_model('models/my_model_1.h5')"
   ]
  },
  {
   "cell_type": "code",
   "execution_count": null,
   "id": "9963f874",
   "metadata": {},
   "outputs": [],
   "source": [
    "new_model.summary()"
   ]
  },
  {
   "cell_type": "code",
   "execution_count": null,
   "id": "2cf7738d",
   "metadata": {},
   "outputs": [],
   "source": [
    "new_model.get_weights()"
   ]
  },
  {
   "cell_type": "code",
   "execution_count": null,
   "id": "e6fe0e49",
   "metadata": {},
   "outputs": [],
   "source": [
    "new_model.optimizer"
   ]
  },
  {
   "cell_type": "markdown",
   "id": "6bb2f054",
   "metadata": {},
   "source": [
    "### model.to_json()\n",
    "\n",
    "only saves architecture of the mdel, and not its weights or its training configuration, you can use the following function to save the architecture only"
   ]
  },
  {
   "cell_type": "code",
   "execution_count": null,
   "id": "b4dde029",
   "metadata": {},
   "outputs": [],
   "source": [
    "# save as JSON\n",
    "json_string = model.to_json()\n",
    "\n",
    "#save as YAML\n",
    "yaml_string = model.to_yaml()"
   ]
  },
  {
   "cell_type": "code",
   "execution_count": null,
   "id": "1f834e5e",
   "metadata": {},
   "outputs": [],
   "source": [
    "json_string"
   ]
  },
  {
   "cell_type": "code",
   "execution_count": null,
   "id": "f8c5bc47",
   "metadata": {},
   "outputs": [],
   "source": [
    "# model reconstructure from JSON\n",
    "from tensorflow.keras.models import model_from_json\n",
    "model_architecture = model_from_json(json_string)\n",
    "\n",
    "# model reconstruction from YAML\n",
    "from tensorflow.keras.models import mode_from_yaml\n",
    "model = model_from_yaml(yaml_string)"
   ]
  },
  {
   "cell_type": "code",
   "execution_count": null,
   "id": "e724ebcc",
   "metadata": {},
   "outputs": [],
   "source": [
    "model_architecture.summary()"
   ]
  },
  {
   "cell_type": "markdown",
   "id": "d195e8a8",
   "metadata": {},
   "source": [
    "### Model.save_weights()\n",
    "\n",
    "if we only need to save the weights of a model, you can use the following function save weights only"
   ]
  },
  {
   "cell_type": "code",
   "execution_count": null,
   "id": "d45964ee",
   "metadata": {},
   "outputs": [],
   "source": [
    "# Checks first if file exists already\n",
    "# if not the weights are saved to disk\n",
    "import os.path\n",
    "if os.path.isfile('model/my_model_weights.h5') is False:\n",
    "    model.save_weights('model/my_model_weights.h5')"
   ]
  },
  {
   "cell_type": "code",
   "execution_count": null,
   "id": "e36fd942",
   "metadata": {},
   "outputs": [],
   "source": [
    "model2 = Sequential([\n",
    "    Dense(units=16, input_shape=(1,),activation='relu'),\n",
    "    Dense(units=32,activation='relu'),\n",
    "    Dense(units=2,activation='sigmoid')\n",
    "])"
   ]
  },
  {
   "cell_type": "code",
   "execution_count": null,
   "id": "bc13b5f3",
   "metadata": {},
   "outputs": [],
   "source": [
    "model2.load_weights('model/my_model_weights.h5')"
   ]
  },
  {
   "cell_type": "code",
   "execution_count": null,
   "id": "8703f77f",
   "metadata": {},
   "outputs": [],
   "source": [
    "model2.get_weights()"
   ]
  },
  {
   "cell_type": "markdown",
   "id": "a41e4a73",
   "metadata": {},
   "source": [
    "### Some CNN things"
   ]
  },
  {
   "cell_type": "code",
   "execution_count": null,
   "id": "8eee0518",
   "metadata": {},
   "outputs": [],
   "source": [
    "train_batches = ImageDataGenerator(preprocessing_function=tf.keras.applications.vgg16,preprocess_input).flow_from_directory(directory=train_path,target_size=(224,224),classes=[],batch_size=10)\n",
    "\n",
    "# for test set add sjuffle=False parameter to flow_from_directory function to prevent shuffling of images because we need to access actual label for each image"
   ]
  },
  {
   "cell_type": "code",
   "execution_count": null,
   "id": "b4d65139",
   "metadata": {},
   "outputs": [],
   "source": [
    "assert train_batches.n == 1000\n",
    "assert valid_batches.n == 200\n",
    "assert test_batches.n == 100\n",
    "assert train_batches.num_classes == valid_batches.num_classes == test_batches.num_classes == 2"
   ]
  },
  {
   "cell_type": "code",
   "execution_count": null,
   "id": "ed891c10",
   "metadata": {},
   "outputs": [],
   "source": [
    "imgs, labels = next(train_batches)"
   ]
  },
  {
   "cell_type": "code",
   "execution_count": null,
   "id": "7515973f",
   "metadata": {},
   "outputs": [],
   "source": [
    "# This function will plot the images in the form of a grid with 1 row and 10 columns where images are placed\n",
    "def plotImages(images_arr):\n",
    "    fig, axes = plt.subplots(1, 10, figsize=(20,20))\n",
    "    axes = axes.flatten()\n",
    "    for img, ax in zip(images_arr, axes):\n",
    "        ax.imshow(img)\n",
    "        ax.axis('off')\n",
    "    plt.tight_layout()\n",
    "    plt.show()"
   ]
  },
  {
   "cell_type": "code",
   "execution_count": null,
   "id": "c0845cb3",
   "metadata": {},
   "outputs": [],
   "source": [
    "plotImages(imgs)\n",
    "print(labels)"
   ]
  },
  {
   "cell_type": "code",
   "execution_count": null,
   "id": "20dbaddd",
   "metadata": {},
   "outputs": [],
   "source": []
  },
  {
   "cell_type": "code",
   "execution_count": null,
   "id": "15c8aa22",
   "metadata": {},
   "outputs": [],
   "source": []
  },
  {
   "cell_type": "code",
   "execution_count": null,
   "id": "0e5a6e86",
   "metadata": {},
   "outputs": [],
   "source": []
  },
  {
   "cell_type": "code",
   "execution_count": null,
   "id": "491bee19",
   "metadata": {},
   "outputs": [],
   "source": []
  },
  {
   "cell_type": "code",
   "execution_count": null,
   "id": "9abd0276",
   "metadata": {},
   "outputs": [],
   "source": []
  }
 ],
 "metadata": {
  "kernelspec": {
   "display_name": "Python 3 (ipykernel)",
   "language": "python",
   "name": "python3"
  },
  "language_info": {
   "codemirror_mode": {
    "name": "ipython",
    "version": 3
   },
   "file_extension": ".py",
   "mimetype": "text/x-python",
   "name": "python",
   "nbconvert_exporter": "python",
   "pygments_lexer": "ipython3",
   "version": "3.9.7"
  }
 },
 "nbformat": 4,
 "nbformat_minor": 5
}
