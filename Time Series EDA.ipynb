{
 "cells": [
  {
   "cell_type": "code",
   "execution_count": 1,
   "id": "d126061b",
   "metadata": {},
   "outputs": [
    {
     "name": "stdout",
     "output_type": "stream",
     "text": [
      "Collecting pandas_datareader\n",
      "  Downloading pandas_datareader-0.10.0-py3-none-any.whl (109 kB)\n",
      "Requirement already satisfied: pandas>=0.23 in d:\\conda\\lib\\site-packages (from pandas_datareader) (1.3.4)\n",
      "Requirement already satisfied: lxml in d:\\conda\\lib\\site-packages (from pandas_datareader) (4.6.3)\n",
      "Requirement already satisfied: requests>=2.19.0 in d:\\conda\\lib\\site-packages (from pandas_datareader) (2.26.0)\n",
      "Requirement already satisfied: python-dateutil>=2.7.3 in d:\\conda\\lib\\site-packages (from pandas>=0.23->pandas_datareader) (2.8.2)\n",
      "Requirement already satisfied: pytz>=2017.3 in d:\\conda\\lib\\site-packages (from pandas>=0.23->pandas_datareader) (2021.3)\n",
      "Requirement already satisfied: numpy>=1.17.3 in d:\\conda\\lib\\site-packages (from pandas>=0.23->pandas_datareader) (1.20.3)\n",
      "Requirement already satisfied: six>=1.5 in d:\\conda\\lib\\site-packages (from python-dateutil>=2.7.3->pandas>=0.23->pandas_datareader) (1.16.0)\n",
      "Requirement already satisfied: certifi>=2017.4.17 in d:\\conda\\lib\\site-packages (from requests>=2.19.0->pandas_datareader) (2021.10.8)\n",
      "Requirement already satisfied: charset-normalizer~=2.0.0 in d:\\conda\\lib\\site-packages (from requests>=2.19.0->pandas_datareader) (2.0.4)\n",
      "Requirement already satisfied: urllib3<1.27,>=1.21.1 in d:\\conda\\lib\\site-packages (from requests>=2.19.0->pandas_datareader) (1.26.7)\n",
      "Requirement already satisfied: idna<4,>=2.5 in d:\\conda\\lib\\site-packages (from requests>=2.19.0->pandas_datareader) (3.2)\n",
      "Installing collected packages: pandas-datareader\n",
      "Successfully installed pandas-datareader-0.10.0\n"
     ]
    }
   ],
   "source": [
    "!pip install pandas_datareader"
   ]
  },
  {
   "cell_type": "code",
   "execution_count": 3,
   "id": "8dc906c1",
   "metadata": {},
   "outputs": [],
   "source": [
    "import pandas_datareader as pdr\n",
    "import pandas as pd\n",
    "from datetime import datetime"
   ]
  },
  {
   "cell_type": "code",
   "execution_count": 5,
   "id": "baa3747c",
   "metadata": {},
   "outputs": [],
   "source": [
    "df_aapl = pdr.get_data_yahoo('AAPL')"
   ]
  },
  {
   "cell_type": "code",
   "execution_count": 6,
   "id": "e04bc1dd",
   "metadata": {},
   "outputs": [
    {
     "data": {
      "text/html": [
       "<div>\n",
       "<style scoped>\n",
       "    .dataframe tbody tr th:only-of-type {\n",
       "        vertical-align: middle;\n",
       "    }\n",
       "\n",
       "    .dataframe tbody tr th {\n",
       "        vertical-align: top;\n",
       "    }\n",
       "\n",
       "    .dataframe thead th {\n",
       "        text-align: right;\n",
       "    }\n",
       "</style>\n",
       "<table border=\"1\" class=\"dataframe\">\n",
       "  <thead>\n",
       "    <tr style=\"text-align: right;\">\n",
       "      <th></th>\n",
       "      <th>High</th>\n",
       "      <th>Low</th>\n",
       "      <th>Open</th>\n",
       "      <th>Close</th>\n",
       "      <th>Volume</th>\n",
       "      <th>Adj Close</th>\n",
       "    </tr>\n",
       "    <tr>\n",
       "      <th>Date</th>\n",
       "      <th></th>\n",
       "      <th></th>\n",
       "      <th></th>\n",
       "      <th></th>\n",
       "      <th></th>\n",
       "      <th></th>\n",
       "    </tr>\n",
       "  </thead>\n",
       "  <tbody>\n",
       "    <tr>\n",
       "      <th>2022-05-02</th>\n",
       "      <td>158.229996</td>\n",
       "      <td>153.270004</td>\n",
       "      <td>156.710007</td>\n",
       "      <td>157.960007</td>\n",
       "      <td>123055300.0</td>\n",
       "      <td>157.728256</td>\n",
       "    </tr>\n",
       "    <tr>\n",
       "      <th>2022-05-03</th>\n",
       "      <td>160.710007</td>\n",
       "      <td>156.320007</td>\n",
       "      <td>158.149994</td>\n",
       "      <td>159.479996</td>\n",
       "      <td>88966500.0</td>\n",
       "      <td>159.246017</td>\n",
       "    </tr>\n",
       "    <tr>\n",
       "      <th>2022-05-04</th>\n",
       "      <td>166.479996</td>\n",
       "      <td>159.259995</td>\n",
       "      <td>159.669998</td>\n",
       "      <td>166.020004</td>\n",
       "      <td>108256500.0</td>\n",
       "      <td>165.776428</td>\n",
       "    </tr>\n",
       "    <tr>\n",
       "      <th>2022-05-05</th>\n",
       "      <td>164.080002</td>\n",
       "      <td>154.949997</td>\n",
       "      <td>163.850006</td>\n",
       "      <td>156.770004</td>\n",
       "      <td>130525300.0</td>\n",
       "      <td>156.540009</td>\n",
       "    </tr>\n",
       "    <tr>\n",
       "      <th>2022-05-06</th>\n",
       "      <td>159.440002</td>\n",
       "      <td>154.179993</td>\n",
       "      <td>156.009995</td>\n",
       "      <td>157.279999</td>\n",
       "      <td>116055700.0</td>\n",
       "      <td>157.279999</td>\n",
       "    </tr>\n",
       "  </tbody>\n",
       "</table>\n",
       "</div>"
      ],
      "text/plain": [
       "                  High         Low        Open       Close       Volume  \\\n",
       "Date                                                                      \n",
       "2022-05-02  158.229996  153.270004  156.710007  157.960007  123055300.0   \n",
       "2022-05-03  160.710007  156.320007  158.149994  159.479996   88966500.0   \n",
       "2022-05-04  166.479996  159.259995  159.669998  166.020004  108256500.0   \n",
       "2022-05-05  164.080002  154.949997  163.850006  156.770004  130525300.0   \n",
       "2022-05-06  159.440002  154.179993  156.009995  157.279999  116055700.0   \n",
       "\n",
       "             Adj Close  \n",
       "Date                    \n",
       "2022-05-02  157.728256  \n",
       "2022-05-03  159.246017  \n",
       "2022-05-04  165.776428  \n",
       "2022-05-05  156.540009  \n",
       "2022-05-06  157.279999  "
      ]
     },
     "execution_count": 6,
     "metadata": {},
     "output_type": "execute_result"
    }
   ],
   "source": [
    "df_aapl.tail()"
   ]
  },
  {
   "cell_type": "code",
   "execution_count": 8,
   "id": "8749231d",
   "metadata": {},
   "outputs": [
    {
     "data": {
      "text/plain": [
       "<AxesSubplot:xlabel='Date'>"
      ]
     },
     "execution_count": 8,
     "metadata": {},
     "output_type": "execute_result"
    },
    {
     "data": {
      "image/png": "[encoded data removed]",
      "text/plain": [
       "<Figure size 864x288 with 1 Axes>"
      ]
     },
     "metadata": {
      "needs_background": "light"
     },
     "output_type": "display_data"
    }
   ],
   "source": [
    "df_aapl['High'].plot(figsize=(12,4))"
   ]
  },
  {
   "cell_type": "code",
   "execution_count": 9,
   "id": "f2643b81",
   "metadata": {},
   "outputs": [
    {
     "data": {
      "text/plain": [
       "<AxesSubplot:xlabel='Date'>"
      ]
     },
     "execution_count": 9,
     "metadata": {},
     "output_type": "execute_result"
    },
    {
     "data": {
      "image/png": "[encoded data removed]",
      "text/plain": [
       "<Figure size 864x288 with 1 Axes>"
      ]
     },
     "metadata": {
      "needs_background": "light"
     },
     "output_type": "display_data"
    }
   ],
   "source": [
    "df_aapl['High'].plot(xlim=['2020-01-01','2021-09-01'],figsize=(12,4))"
   ]
  },
  {
   "cell_type": "code",
   "execution_count": 12,
   "id": "5da0a4c8",
   "metadata": {},
   "outputs": [
    {
     "data": {
      "text/plain": [
       "<AxesSubplot:xlabel='Date'>"
      ]
     },
     "execution_count": 12,
     "metadata": {},
     "output_type": "execute_result"
    },
    {
     "data": {
      "image/png": "[encoded data removed]",
      "text/plain": [
       "<Figure size 864x288 with 1 Axes>"
      ]
     },
     "metadata": {
      "needs_background": "light"
     },
     "output_type": "display_data"
    }
   ],
   "source": [
    "df_aapl['High'].plot(xlim=['2020-01-01','2021-09-01'],ylim=[0,900],figsize=(12,4))"
   ]
  },
  {
   "cell_type": "code",
   "execution_count": 13,
   "id": "a1704fbf",
   "metadata": {},
   "outputs": [
    {
     "data": {
      "text/plain": [
       "<AxesSubplot:xlabel='Date'>"
      ]
     },
     "execution_count": 13,
     "metadata": {},
     "output_type": "execute_result"
    },
    {
     "data": {
      "image/png": "[encoded data removed]",
      "text/plain": [
       "<Figure size 864x288 with 1 Axes>"
      ]
     },
     "metadata": {
      "needs_background": "light"
     },
     "output_type": "display_data"
    }
   ],
   "source": [
    "df_aapl['High'].plot(xlim=['2020-01-01','2021-09-01'],figsize=(12,4),c='green')"
   ]
  },
  {
   "cell_type": "code",
   "execution_count": 14,
   "id": "f6554fcc",
   "metadata": {},
   "outputs": [
    {
     "data": {
      "text/plain": [
       "<AxesSubplot:xlabel='Date'>"
      ]
     },
     "execution_count": 14,
     "metadata": {},
     "output_type": "execute_result"
    },
    {
     "data": {
      "image/png": "[encoded data removed]",
      "text/plain": [
       "<Figure size 864x288 with 1 Axes>"
      ]
     },
     "metadata": {
      "needs_background": "light"
     },
     "output_type": "display_data"
    }
   ],
   "source": [
    "df_aapl['High'].plot(xlim=['2020-01-01','2021-09-01'],figsize=(12,4),ls='--')"
   ]
  },
  {
   "cell_type": "code",
   "execution_count": 15,
   "id": "71e96e0a",
   "metadata": {},
   "outputs": [
    {
     "data": {
      "text/plain": [
       "DatetimeIndex(['2017-05-08', '2017-05-09', '2017-05-10', '2017-05-11',\n",
       "               '2017-05-12', '2017-05-15', '2017-05-16', '2017-05-17',\n",
       "               '2017-05-18', '2017-05-19',\n",
       "               ...\n",
       "               '2022-04-25', '2022-04-26', '2022-04-27', '2022-04-28',\n",
       "               '2022-04-29', '2022-05-02', '2022-05-03', '2022-05-04',\n",
       "               '2022-05-05', '2022-05-06'],\n",
       "              dtype='datetime64[ns]', name='Date', length=1260, freq=None)"
      ]
     },
     "execution_count": 15,
     "metadata": {},
     "output_type": "execute_result"
    }
   ],
   "source": [
    "df_aapl.index"
   ]
  },
  {
   "cell_type": "code",
   "execution_count": 22,
   "id": "460a6971",
   "metadata": {},
   "outputs": [],
   "source": [
    "index=df_aapl.loc['2020-01-01':'2021-09-01'].index"
   ]
  },
  {
   "cell_type": "code",
   "execution_count": 23,
   "id": "ae34f876",
   "metadata": {},
   "outputs": [
    {
     "data": {
      "text/plain": [
       "DatetimeIndex(['2020-01-02', '2020-01-03', '2020-01-06', '2020-01-07',\n",
       "               '2020-01-08', '2020-01-09', '2020-01-10', '2020-01-13',\n",
       "               '2020-01-14', '2020-01-15',\n",
       "               ...\n",
       "               '2021-08-19', '2021-08-20', '2021-08-23', '2021-08-24',\n",
       "               '2021-08-25', '2021-08-26', '2021-08-27', '2021-08-30',\n",
       "               '2021-08-31', '2021-09-01'],\n",
       "              dtype='datetime64[ns]', name='Date', length=421, freq=None)"
      ]
     },
     "execution_count": 23,
     "metadata": {},
     "output_type": "execute_result"
    }
   ],
   "source": [
    "index"
   ]
  },
  {
   "cell_type": "code",
   "execution_count": 18,
   "id": "2ca68d86",
   "metadata": {},
   "outputs": [],
   "source": [
    "share_open = df_aapl.loc['2020-01-01':'2021-09-01']['Open']"
   ]
  },
  {
   "cell_type": "code",
   "execution_count": 19,
   "id": "75728ba5",
   "metadata": {},
   "outputs": [
    {
     "data": {
      "text/plain": [
       "Date\n",
       "2020-01-02     74.059998\n",
       "2020-01-03     74.287498\n",
       "2020-01-06     73.447502\n",
       "2020-01-07     74.959999\n",
       "2020-01-08     74.290001\n",
       "                 ...    \n",
       "2021-08-26    148.350006\n",
       "2021-08-27    147.479996\n",
       "2021-08-30    149.000000\n",
       "2021-08-31    152.660004\n",
       "2021-09-01    152.830002\n",
       "Name: Open, Length: 421, dtype: float64"
      ]
     },
     "execution_count": 19,
     "metadata": {},
     "output_type": "execute_result"
    }
   ],
   "source": [
    "share_open"
   ]
  },
  {
   "cell_type": "code",
   "execution_count": 20,
   "id": "a655b2a8",
   "metadata": {},
   "outputs": [],
   "source": [
    "import matplotlib.pyplot as plt\n",
    "%matplotlib inline "
   ]
  },
  {
   "cell_type": "code",
   "execution_count": 26,
   "id": "6cef9e4b",
   "metadata": {},
   "outputs": [
    {
     "data": {
      "text/plain": [
       "[<matplotlib.lines.Line2D at 0x1f731e3a0a0>]"
      ]
     },
     "execution_count": 26,
     "metadata": {},
     "output_type": "execute_result"
    },
    {
     "data": {
      "image/png": "[encoded data removed]",
      "text/plain": [
       "<Figure size 432x288 with 1 Axes>"
      ]
     },
     "metadata": {
      "needs_background": "light"
     },
     "output_type": "display_data"
    }
   ],
   "source": [
    "figure, axes = plt.subplots()\n",
    "plt.tight_layout()\n",
    "figure.autofmt_xdate()\n",
    "axes.plot(index,share_open)"
   ]
  },
  {
   "cell_type": "code",
   "execution_count": 27,
   "id": "fc3cf7bd",
   "metadata": {},
   "outputs": [],
   "source": [
    "df_aapl = df_aapl.reset_index()"
   ]
  },
  {
   "cell_type": "code",
   "execution_count": 28,
   "id": "15fdd468",
   "metadata": {},
   "outputs": [
    {
     "name": "stdout",
     "output_type": "stream",
     "text": [
      "<class 'pandas.core.frame.DataFrame'>\n",
      "RangeIndex: 1260 entries, 0 to 1259\n",
      "Data columns (total 7 columns):\n",
      " #   Column     Non-Null Count  Dtype         \n",
      "---  ------     --------------  -----         \n",
      " 0   Date       1260 non-null   datetime64[ns]\n",
      " 1   High       1260 non-null   float64       \n",
      " 2   Low        1260 non-null   float64       \n",
      " 3   Open       1260 non-null   float64       \n",
      " 4   Close      1260 non-null   float64       \n",
      " 5   Volume     1260 non-null   float64       \n",
      " 6   Adj Close  1260 non-null   float64       \n",
      "dtypes: datetime64[ns](1), float64(6)\n",
      "memory usage: 69.0 KB\n"
     ]
    }
   ],
   "source": [
    "df_aapl.info()"
   ]
  },
  {
   "cell_type": "code",
   "execution_count": 32,
   "id": "e197a727",
   "metadata": {},
   "outputs": [],
   "source": [
    "df_aapl = df_aapl.set_index('Date',drop=True)"
   ]
  },
  {
   "cell_type": "code",
   "execution_count": 33,
   "id": "76f4a34c",
   "metadata": {},
   "outputs": [
    {
     "data": {
      "text/html": [
       "<div>\n",
       "<style scoped>\n",
       "    .dataframe tbody tr th:only-of-type {\n",
       "        vertical-align: middle;\n",
       "    }\n",
       "\n",
       "    .dataframe tbody tr th {\n",
       "        vertical-align: top;\n",
       "    }\n",
       "\n",
       "    .dataframe thead th {\n",
       "        text-align: right;\n",
       "    }\n",
       "</style>\n",
       "<table border=\"1\" class=\"dataframe\">\n",
       "  <thead>\n",
       "    <tr style=\"text-align: right;\">\n",
       "      <th></th>\n",
       "      <th>High</th>\n",
       "      <th>Low</th>\n",
       "      <th>Open</th>\n",
       "      <th>Close</th>\n",
       "      <th>Volume</th>\n",
       "      <th>Adj Close</th>\n",
       "    </tr>\n",
       "    <tr>\n",
       "      <th>Date</th>\n",
       "      <th></th>\n",
       "      <th></th>\n",
       "      <th></th>\n",
       "      <th></th>\n",
       "      <th></th>\n",
       "      <th></th>\n",
       "    </tr>\n",
       "  </thead>\n",
       "  <tbody>\n",
       "    <tr>\n",
       "      <th>2017-05-08</th>\n",
       "      <td>38.424999</td>\n",
       "      <td>37.257500</td>\n",
       "      <td>37.257500</td>\n",
       "      <td>38.252499</td>\n",
       "      <td>195009600.0</td>\n",
       "      <td>36.063492</td>\n",
       "    </tr>\n",
       "    <tr>\n",
       "      <th>2017-05-09</th>\n",
       "      <td>38.720001</td>\n",
       "      <td>38.362499</td>\n",
       "      <td>38.467499</td>\n",
       "      <td>38.497501</td>\n",
       "      <td>156521600.0</td>\n",
       "      <td>36.294468</td>\n",
       "    </tr>\n",
       "    <tr>\n",
       "      <th>2017-05-10</th>\n",
       "      <td>38.485001</td>\n",
       "      <td>38.027500</td>\n",
       "      <td>38.407501</td>\n",
       "      <td>38.314999</td>\n",
       "      <td>103222800.0</td>\n",
       "      <td>36.122414</td>\n",
       "    </tr>\n",
       "    <tr>\n",
       "      <th>2017-05-11</th>\n",
       "      <td>38.517502</td>\n",
       "      <td>38.077499</td>\n",
       "      <td>38.112499</td>\n",
       "      <td>38.487499</td>\n",
       "      <td>109020400.0</td>\n",
       "      <td>36.434814</td>\n",
       "    </tr>\n",
       "    <tr>\n",
       "      <th>2017-05-12</th>\n",
       "      <td>39.105000</td>\n",
       "      <td>38.667500</td>\n",
       "      <td>38.674999</td>\n",
       "      <td>39.025002</td>\n",
       "      <td>130108000.0</td>\n",
       "      <td>36.943649</td>\n",
       "    </tr>\n",
       "  </tbody>\n",
       "</table>\n",
       "</div>"
      ],
      "text/plain": [
       "                 High        Low       Open      Close       Volume  Adj Close\n",
       "Date                                                                          \n",
       "2017-05-08  38.424999  37.257500  37.257500  38.252499  195009600.0  36.063492\n",
       "2017-05-09  38.720001  38.362499  38.467499  38.497501  156521600.0  36.294468\n",
       "2017-05-10  38.485001  38.027500  38.407501  38.314999  103222800.0  36.122414\n",
       "2017-05-11  38.517502  38.077499  38.112499  38.487499  109020400.0  36.434814\n",
       "2017-05-12  39.105000  38.667500  38.674999  39.025002  130108000.0  36.943649"
      ]
     },
     "execution_count": 33,
     "metadata": {},
     "output_type": "execute_result"
    }
   ],
   "source": [
    "df_aapl.head()"
   ]
  },
  {
   "cell_type": "code",
   "execution_count": 34,
   "id": "b2fb9b90",
   "metadata": {},
   "outputs": [
    {
     "data": {
      "text/plain": [
       "datetime.datetime(2022, 5, 8, 9, 59, 58, 2604)"
      ]
     },
     "execution_count": 34,
     "metadata": {},
     "output_type": "execute_result"
    }
   ],
   "source": [
    "datetime.now()"
   ]
  },
  {
   "cell_type": "code",
   "execution_count": 35,
   "id": "a6d078db",
   "metadata": {},
   "outputs": [
    {
     "data": {
      "text/plain": [
       "datetime.datetime(2021, 11, 21, 0, 0)"
      ]
     },
     "execution_count": 35,
     "metadata": {},
     "output_type": "execute_result"
    }
   ],
   "source": [
    "datetime(2021,11,21)"
   ]
  },
  {
   "cell_type": "code",
   "execution_count": 37,
   "id": "85afc2b4",
   "metadata": {},
   "outputs": [],
   "source": [
    "date=datetime(2021,11,21)"
   ]
  },
  {
   "cell_type": "code",
   "execution_count": 38,
   "id": "12e60d57",
   "metadata": {},
   "outputs": [
    {
     "data": {
      "text/plain": [
       "datetime.datetime(2021, 11, 21, 0, 0)"
      ]
     },
     "execution_count": 38,
     "metadata": {},
     "output_type": "execute_result"
    }
   ],
   "source": [
    "date"
   ]
  },
  {
   "cell_type": "code",
   "execution_count": 39,
   "id": "ed9a1014",
   "metadata": {},
   "outputs": [
    {
     "data": {
      "text/plain": [
       "datetime.date(2021, 11, 21)"
      ]
     },
     "execution_count": 39,
     "metadata": {},
     "output_type": "execute_result"
    }
   ],
   "source": [
    "date.date()"
   ]
  },
  {
   "cell_type": "code",
   "execution_count": 40,
   "id": "09b5a2d6",
   "metadata": {},
   "outputs": [
    {
     "data": {
      "text/plain": [
       "21"
      ]
     },
     "execution_count": 40,
     "metadata": {},
     "output_type": "execute_result"
    }
   ],
   "source": [
    "date.day"
   ]
  },
  {
   "cell_type": "code",
   "execution_count": 45,
   "id": "addd9b57",
   "metadata": {},
   "outputs": [
    {
     "data": {
      "text/plain": [
       "6"
      ]
     },
     "execution_count": 45,
     "metadata": {},
     "output_type": "execute_result"
    }
   ],
   "source": [
    "date.weekday()"
   ]
  },
  {
   "cell_type": "code",
   "execution_count": 43,
   "id": "89833ee8",
   "metadata": {},
   "outputs": [
    {
     "data": {
      "text/plain": [
       "2021"
      ]
     },
     "execution_count": 43,
     "metadata": {},
     "output_type": "execute_result"
    }
   ],
   "source": [
    "date.year"
   ]
  },
  {
   "cell_type": "markdown",
   "id": "8c476e3a",
   "metadata": {},
   "source": [
    "### Time Resampling"
   ]
  },
  {
   "cell_type": "code",
   "execution_count": 46,
   "id": "d4d13e6f",
   "metadata": {},
   "outputs": [
    {
     "data": {
      "text/html": [
       "<div>\n",
       "<style scoped>\n",
       "    .dataframe tbody tr th:only-of-type {\n",
       "        vertical-align: middle;\n",
       "    }\n",
       "\n",
       "    .dataframe tbody tr th {\n",
       "        vertical-align: top;\n",
       "    }\n",
       "\n",
       "    .dataframe thead th {\n",
       "        text-align: right;\n",
       "    }\n",
       "</style>\n",
       "<table border=\"1\" class=\"dataframe\">\n",
       "  <thead>\n",
       "    <tr style=\"text-align: right;\">\n",
       "      <th></th>\n",
       "      <th>High</th>\n",
       "      <th>Low</th>\n",
       "      <th>Open</th>\n",
       "      <th>Close</th>\n",
       "      <th>Volume</th>\n",
       "      <th>Adj Close</th>\n",
       "    </tr>\n",
       "    <tr>\n",
       "      <th>Date</th>\n",
       "      <th></th>\n",
       "      <th></th>\n",
       "      <th></th>\n",
       "      <th></th>\n",
       "      <th></th>\n",
       "      <th></th>\n",
       "    </tr>\n",
       "  </thead>\n",
       "  <tbody>\n",
       "    <tr>\n",
       "      <th>2017-12-31</th>\n",
       "      <td>35.875000</td>\n",
       "      <td>35.549999</td>\n",
       "      <td>35.724998</td>\n",
       "      <td>35.567501</td>\n",
       "      <td>56106800.0</td>\n",
       "      <td>33.670555</td>\n",
       "    </tr>\n",
       "    <tr>\n",
       "      <th>2018-12-31</th>\n",
       "      <td>37.887501</td>\n",
       "      <td>36.647499</td>\n",
       "      <td>37.037498</td>\n",
       "      <td>36.707500</td>\n",
       "      <td>50055600.0</td>\n",
       "      <td>35.537254</td>\n",
       "    </tr>\n",
       "    <tr>\n",
       "      <th>2019-12-31</th>\n",
       "      <td>36.430000</td>\n",
       "      <td>35.500000</td>\n",
       "      <td>35.994999</td>\n",
       "      <td>35.547501</td>\n",
       "      <td>45448000.0</td>\n",
       "      <td>34.414242</td>\n",
       "    </tr>\n",
       "    <tr>\n",
       "      <th>2020-12-31</th>\n",
       "      <td>57.125000</td>\n",
       "      <td>53.152500</td>\n",
       "      <td>57.020000</td>\n",
       "      <td>56.092499</td>\n",
       "      <td>46691300.0</td>\n",
       "      <td>55.250992</td>\n",
       "    </tr>\n",
       "    <tr>\n",
       "      <th>2021-12-31</th>\n",
       "      <td>120.400002</td>\n",
       "      <td>116.209999</td>\n",
       "      <td>119.029999</td>\n",
       "      <td>116.360001</td>\n",
       "      <td>41000000.0</td>\n",
       "      <td>115.502800</td>\n",
       "    </tr>\n",
       "    <tr>\n",
       "      <th>2022-12-31</th>\n",
       "      <td>154.119995</td>\n",
       "      <td>150.100006</td>\n",
       "      <td>150.899994</td>\n",
       "      <td>150.619995</td>\n",
       "      <td>61177400.0</td>\n",
       "      <td>150.399017</td>\n",
       "    </tr>\n",
       "  </tbody>\n",
       "</table>\n",
       "</div>"
      ],
      "text/plain": [
       "                  High         Low        Open       Close      Volume  \\\n",
       "Date                                                                     \n",
       "2017-12-31   35.875000   35.549999   35.724998   35.567501  56106800.0   \n",
       "2018-12-31   37.887501   36.647499   37.037498   36.707500  50055600.0   \n",
       "2019-12-31   36.430000   35.500000   35.994999   35.547501  45448000.0   \n",
       "2020-12-31   57.125000   53.152500   57.020000   56.092499  46691300.0   \n",
       "2021-12-31  120.400002  116.209999  119.029999  116.360001  41000000.0   \n",
       "2022-12-31  154.119995  150.100006  150.899994  150.619995  61177400.0   \n",
       "\n",
       "             Adj Close  \n",
       "Date                    \n",
       "2017-12-31   33.670555  \n",
       "2018-12-31   35.537254  \n",
       "2019-12-31   34.414242  \n",
       "2020-12-31   55.250992  \n",
       "2021-12-31  115.502800  \n",
       "2022-12-31  150.399017  "
      ]
     },
     "execution_count": 46,
     "metadata": {},
     "output_type": "execute_result"
    }
   ],
   "source": [
    "## rule A gives year end frequency\n",
    "df_aapl.resample(rule='A').min()"
   ]
  },
  {
   "cell_type": "code",
   "execution_count": 47,
   "id": "6a91f049",
   "metadata": {},
   "outputs": [
    {
     "data": {
      "text/html": [
       "<div>\n",
       "<style scoped>\n",
       "    .dataframe tbody tr th:only-of-type {\n",
       "        vertical-align: middle;\n",
       "    }\n",
       "\n",
       "    .dataframe tbody tr th {\n",
       "        vertical-align: top;\n",
       "    }\n",
       "\n",
       "    .dataframe thead th {\n",
       "        text-align: right;\n",
       "    }\n",
       "</style>\n",
       "<table border=\"1\" class=\"dataframe\">\n",
       "  <thead>\n",
       "    <tr style=\"text-align: right;\">\n",
       "      <th></th>\n",
       "      <th>High</th>\n",
       "      <th>Low</th>\n",
       "      <th>Open</th>\n",
       "      <th>Close</th>\n",
       "      <th>Volume</th>\n",
       "      <th>Adj Close</th>\n",
       "    </tr>\n",
       "    <tr>\n",
       "      <th>Date</th>\n",
       "      <th></th>\n",
       "      <th></th>\n",
       "      <th></th>\n",
       "      <th></th>\n",
       "      <th></th>\n",
       "      <th></th>\n",
       "    </tr>\n",
       "  </thead>\n",
       "  <tbody>\n",
       "    <tr>\n",
       "      <th>2017-12-31</th>\n",
       "      <td>44.299999</td>\n",
       "      <td>43.715000</td>\n",
       "      <td>43.777500</td>\n",
       "      <td>44.105000</td>\n",
       "      <td>289229200.0</td>\n",
       "      <td>42.067348</td>\n",
       "    </tr>\n",
       "    <tr>\n",
       "      <th>2018-12-31</th>\n",
       "      <td>58.367500</td>\n",
       "      <td>57.445000</td>\n",
       "      <td>57.695000</td>\n",
       "      <td>58.017502</td>\n",
       "      <td>384986800.0</td>\n",
       "      <td>55.972591</td>\n",
       "    </tr>\n",
       "    <tr>\n",
       "      <th>2019-12-31</th>\n",
       "      <td>73.492500</td>\n",
       "      <td>72.379997</td>\n",
       "      <td>72.779999</td>\n",
       "      <td>73.412498</td>\n",
       "      <td>365248800.0</td>\n",
       "      <td>72.139938</td>\n",
       "    </tr>\n",
       "    <tr>\n",
       "      <th>2020-12-31</th>\n",
       "      <td>138.789993</td>\n",
       "      <td>134.339996</td>\n",
       "      <td>138.050003</td>\n",
       "      <td>136.690002</td>\n",
       "      <td>426510000.0</td>\n",
       "      <td>135.480560</td>\n",
       "    </tr>\n",
       "    <tr>\n",
       "      <th>2021-12-31</th>\n",
       "      <td>182.130005</td>\n",
       "      <td>178.529999</td>\n",
       "      <td>181.119995</td>\n",
       "      <td>180.330002</td>\n",
       "      <td>195432700.0</td>\n",
       "      <td>179.836319</td>\n",
       "    </tr>\n",
       "    <tr>\n",
       "      <th>2022-12-31</th>\n",
       "      <td>182.940002</td>\n",
       "      <td>179.119995</td>\n",
       "      <td>182.630005</td>\n",
       "      <td>182.009995</td>\n",
       "      <td>179935700.0</td>\n",
       "      <td>181.511703</td>\n",
       "    </tr>\n",
       "  </tbody>\n",
       "</table>\n",
       "</div>"
      ],
      "text/plain": [
       "                  High         Low        Open       Close       Volume  \\\n",
       "Date                                                                      \n",
       "2017-12-31   44.299999   43.715000   43.777500   44.105000  289229200.0   \n",
       "2018-12-31   58.367500   57.445000   57.695000   58.017502  384986800.0   \n",
       "2019-12-31   73.492500   72.379997   72.779999   73.412498  365248800.0   \n",
       "2020-12-31  138.789993  134.339996  138.050003  136.690002  426510000.0   \n",
       "2021-12-31  182.130005  178.529999  181.119995  180.330002  195432700.0   \n",
       "2022-12-31  182.940002  179.119995  182.630005  182.009995  179935700.0   \n",
       "\n",
       "             Adj Close  \n",
       "Date                    \n",
       "2017-12-31   42.067348  \n",
       "2018-12-31   55.972591  \n",
       "2019-12-31   72.139938  \n",
       "2020-12-31  135.480560  \n",
       "2021-12-31  179.836319  \n",
       "2022-12-31  181.511703  "
      ]
     },
     "execution_count": 47,
     "metadata": {},
     "output_type": "execute_result"
    }
   ],
   "source": [
    "df_aapl.resample(rule='A').max()"
   ]
  },
  {
   "cell_type": "code",
   "execution_count": 48,
   "id": "d9110069",
   "metadata": {},
   "outputs": [
    {
     "data": {
      "text/plain": [
       "<AxesSubplot:xlabel='Date'>"
      ]
     },
     "execution_count": 48,
     "metadata": {},
     "output_type": "execute_result"
    },
    {
     "data": {
      "image/png": "[encoded data removed]",
      "text/plain": [
       "<Figure size 432x288 with 1 Axes>"
      ]
     },
     "metadata": {
      "needs_background": "light"
     },
     "output_type": "display_data"
    }
   ],
   "source": [
    "df_aapl.resample(rule='A').max()['Open'].plot()"
   ]
  },
  {
   "cell_type": "code",
   "execution_count": 49,
   "id": "b27b041f",
   "metadata": {},
   "outputs": [
    {
     "data": {
      "text/plain": [
       "<AxesSubplot:xlabel='Date'>"
      ]
     },
     "execution_count": 49,
     "metadata": {},
     "output_type": "execute_result"
    },
    {
     "data": {
      "image/png": "[encoded data removed]",
      "text/plain": [
       "<Figure size 432x288 with 1 Axes>"
      ]
     },
     "metadata": {
      "needs_background": "light"
     },
     "output_type": "display_data"
    }
   ],
   "source": [
    "## quarterly\n",
    "df_aapl.resample(rule='QS').max()['High'].plot()"
   ]
  },
  {
   "cell_type": "code",
   "execution_count": 50,
   "id": "8c56907a",
   "metadata": {},
   "outputs": [
    {
     "data": {
      "text/html": [
       "<div>\n",
       "<style scoped>\n",
       "    .dataframe tbody tr th:only-of-type {\n",
       "        vertical-align: middle;\n",
       "    }\n",
       "\n",
       "    .dataframe tbody tr th {\n",
       "        vertical-align: top;\n",
       "    }\n",
       "\n",
       "    .dataframe thead th {\n",
       "        text-align: right;\n",
       "    }\n",
       "</style>\n",
       "<table border=\"1\" class=\"dataframe\">\n",
       "  <thead>\n",
       "    <tr style=\"text-align: right;\">\n",
       "      <th></th>\n",
       "      <th>High</th>\n",
       "      <th>Low</th>\n",
       "      <th>Open</th>\n",
       "      <th>Close</th>\n",
       "      <th>Volume</th>\n",
       "      <th>Adj Close</th>\n",
       "    </tr>\n",
       "    <tr>\n",
       "      <th>Date</th>\n",
       "      <th></th>\n",
       "      <th></th>\n",
       "      <th></th>\n",
       "      <th></th>\n",
       "      <th></th>\n",
       "      <th></th>\n",
       "    </tr>\n",
       "  </thead>\n",
       "  <tbody>\n",
       "    <tr>\n",
       "      <th>2017-12-29</th>\n",
       "      <td>44.299999</td>\n",
       "      <td>43.715000</td>\n",
       "      <td>43.777500</td>\n",
       "      <td>44.105000</td>\n",
       "      <td>289229200.0</td>\n",
       "      <td>42.067348</td>\n",
       "    </tr>\n",
       "    <tr>\n",
       "      <th>2018-12-31</th>\n",
       "      <td>58.367500</td>\n",
       "      <td>57.445000</td>\n",
       "      <td>57.695000</td>\n",
       "      <td>58.017502</td>\n",
       "      <td>384986800.0</td>\n",
       "      <td>55.972591</td>\n",
       "    </tr>\n",
       "    <tr>\n",
       "      <th>2019-12-31</th>\n",
       "      <td>73.492500</td>\n",
       "      <td>72.379997</td>\n",
       "      <td>72.779999</td>\n",
       "      <td>73.412498</td>\n",
       "      <td>365248800.0</td>\n",
       "      <td>72.139938</td>\n",
       "    </tr>\n",
       "    <tr>\n",
       "      <th>2020-12-31</th>\n",
       "      <td>138.789993</td>\n",
       "      <td>134.339996</td>\n",
       "      <td>138.050003</td>\n",
       "      <td>136.690002</td>\n",
       "      <td>426510000.0</td>\n",
       "      <td>135.480560</td>\n",
       "    </tr>\n",
       "    <tr>\n",
       "      <th>2021-12-31</th>\n",
       "      <td>182.130005</td>\n",
       "      <td>178.529999</td>\n",
       "      <td>181.119995</td>\n",
       "      <td>180.330002</td>\n",
       "      <td>195432700.0</td>\n",
       "      <td>179.836319</td>\n",
       "    </tr>\n",
       "    <tr>\n",
       "      <th>2022-12-30</th>\n",
       "      <td>182.940002</td>\n",
       "      <td>179.119995</td>\n",
       "      <td>182.630005</td>\n",
       "      <td>182.009995</td>\n",
       "      <td>179935700.0</td>\n",
       "      <td>181.511703</td>\n",
       "    </tr>\n",
       "  </tbody>\n",
       "</table>\n",
       "</div>"
      ],
      "text/plain": [
       "                  High         Low        Open       Close       Volume  \\\n",
       "Date                                                                      \n",
       "2017-12-29   44.299999   43.715000   43.777500   44.105000  289229200.0   \n",
       "2018-12-31   58.367500   57.445000   57.695000   58.017502  384986800.0   \n",
       "2019-12-31   73.492500   72.379997   72.779999   73.412498  365248800.0   \n",
       "2020-12-31  138.789993  134.339996  138.050003  136.690002  426510000.0   \n",
       "2021-12-31  182.130005  178.529999  181.119995  180.330002  195432700.0   \n",
       "2022-12-30  182.940002  179.119995  182.630005  182.009995  179935700.0   \n",
       "\n",
       "             Adj Close  \n",
       "Date                    \n",
       "2017-12-29   42.067348  \n",
       "2018-12-31   55.972591  \n",
       "2019-12-31   72.139938  \n",
       "2020-12-31  135.480560  \n",
       "2021-12-31  179.836319  \n",
       "2022-12-30  181.511703  "
      ]
     },
     "execution_count": 50,
     "metadata": {},
     "output_type": "execute_result"
    }
   ],
   "source": [
    "##business end frequency\n",
    "df_aapl.resample(rule='BA').max()"
   ]
  },
  {
   "cell_type": "code",
   "execution_count": 51,
   "id": "b2116f94",
   "metadata": {},
   "outputs": [
    {
     "data": {
      "text/html": [
       "<div>\n",
       "<style scoped>\n",
       "    .dataframe tbody tr th:only-of-type {\n",
       "        vertical-align: middle;\n",
       "    }\n",
       "\n",
       "    .dataframe tbody tr th {\n",
       "        vertical-align: top;\n",
       "    }\n",
       "\n",
       "    .dataframe thead th {\n",
       "        text-align: right;\n",
       "    }\n",
       "</style>\n",
       "<table border=\"1\" class=\"dataframe\">\n",
       "  <thead>\n",
       "    <tr style=\"text-align: right;\">\n",
       "      <th></th>\n",
       "      <th>High</th>\n",
       "      <th>Low</th>\n",
       "      <th>Open</th>\n",
       "      <th>Close</th>\n",
       "      <th>Volume</th>\n",
       "      <th>Adj Close</th>\n",
       "    </tr>\n",
       "    <tr>\n",
       "      <th>Date</th>\n",
       "      <th></th>\n",
       "      <th></th>\n",
       "      <th></th>\n",
       "      <th></th>\n",
       "      <th></th>\n",
       "      <th></th>\n",
       "    </tr>\n",
       "  </thead>\n",
       "  <tbody>\n",
       "    <tr>\n",
       "      <th>2017-04-03</th>\n",
       "      <td>39.162498</td>\n",
       "      <td>38.762501</td>\n",
       "      <td>39.002499</td>\n",
       "      <td>39.025002</td>\n",
       "      <td>289229200.0</td>\n",
       "      <td>36.943649</td>\n",
       "    </tr>\n",
       "    <tr>\n",
       "      <th>2017-07-03</th>\n",
       "      <td>41.235001</td>\n",
       "      <td>40.907501</td>\n",
       "      <td>41.200001</td>\n",
       "      <td>41.012501</td>\n",
       "      <td>286856000.0</td>\n",
       "      <td>38.977615</td>\n",
       "    </tr>\n",
       "    <tr>\n",
       "      <th>2017-10-02</th>\n",
       "      <td>44.299999</td>\n",
       "      <td>43.715000</td>\n",
       "      <td>43.777500</td>\n",
       "      <td>44.105000</td>\n",
       "      <td>237594400.0</td>\n",
       "      <td>42.067348</td>\n",
       "    </tr>\n",
       "    <tr>\n",
       "      <th>2018-01-01</th>\n",
       "      <td>45.875000</td>\n",
       "      <td>45.052502</td>\n",
       "      <td>45.647499</td>\n",
       "      <td>45.430000</td>\n",
       "      <td>346375200.0</td>\n",
       "      <td>43.507805</td>\n",
       "    </tr>\n",
       "    <tr>\n",
       "      <th>2018-04-02</th>\n",
       "      <td>48.549999</td>\n",
       "      <td>48.090000</td>\n",
       "      <td>48.535000</td>\n",
       "      <td>48.494999</td>\n",
       "      <td>266157600.0</td>\n",
       "      <td>46.622208</td>\n",
       "    </tr>\n",
       "    <tr>\n",
       "      <th>2018-07-02</th>\n",
       "      <td>57.417500</td>\n",
       "      <td>56.657501</td>\n",
       "      <td>57.247501</td>\n",
       "      <td>57.090000</td>\n",
       "      <td>384986800.0</td>\n",
       "      <td>55.077778</td>\n",
       "    </tr>\n",
       "    <tr>\n",
       "      <th>2018-10-01</th>\n",
       "      <td>58.367500</td>\n",
       "      <td>57.445000</td>\n",
       "      <td>57.695000</td>\n",
       "      <td>58.017502</td>\n",
       "      <td>382978400.0</td>\n",
       "      <td>55.972591</td>\n",
       "    </tr>\n",
       "    <tr>\n",
       "      <th>2019-01-01</th>\n",
       "      <td>49.422501</td>\n",
       "      <td>47.695000</td>\n",
       "      <td>48.834999</td>\n",
       "      <td>48.772499</td>\n",
       "      <td>365248800.0</td>\n",
       "      <td>47.420124</td>\n",
       "    </tr>\n",
       "    <tr>\n",
       "      <th>2019-04-01</th>\n",
       "      <td>53.827499</td>\n",
       "      <td>52.557499</td>\n",
       "      <td>52.722500</td>\n",
       "      <td>52.937500</td>\n",
       "      <td>259309200.0</td>\n",
       "      <td>51.469643</td>\n",
       "    </tr>\n",
       "    <tr>\n",
       "      <th>2019-07-01</th>\n",
       "      <td>56.605000</td>\n",
       "      <td>55.715000</td>\n",
       "      <td>56.200001</td>\n",
       "      <td>55.992500</td>\n",
       "      <td>277125600.0</td>\n",
       "      <td>54.857220</td>\n",
       "    </tr>\n",
       "    <tr>\n",
       "      <th>2019-10-01</th>\n",
       "      <td>73.492500</td>\n",
       "      <td>72.379997</td>\n",
       "      <td>72.779999</td>\n",
       "      <td>73.412498</td>\n",
       "      <td>275978000.0</td>\n",
       "      <td>72.139938</td>\n",
       "    </tr>\n",
       "    <tr>\n",
       "      <th>2020-01-01</th>\n",
       "      <td>81.962502</td>\n",
       "      <td>80.837502</td>\n",
       "      <td>81.184998</td>\n",
       "      <td>81.800003</td>\n",
       "      <td>426510000.0</td>\n",
       "      <td>80.572830</td>\n",
       "    </tr>\n",
       "    <tr>\n",
       "      <th>2020-04-01</th>\n",
       "      <td>93.095001</td>\n",
       "      <td>90.567497</td>\n",
       "      <td>91.250000</td>\n",
       "      <td>91.632500</td>\n",
       "      <td>264476000.0</td>\n",
       "      <td>90.502144</td>\n",
       "    </tr>\n",
       "    <tr>\n",
       "      <th>2020-07-01</th>\n",
       "      <td>137.979996</td>\n",
       "      <td>130.529999</td>\n",
       "      <td>137.589996</td>\n",
       "      <td>134.179993</td>\n",
       "      <td>374336800.0</td>\n",
       "      <td>132.763733</td>\n",
       "    </tr>\n",
       "    <tr>\n",
       "      <th>2020-10-01</th>\n",
       "      <td>138.789993</td>\n",
       "      <td>134.339996</td>\n",
       "      <td>138.050003</td>\n",
       "      <td>136.690002</td>\n",
       "      <td>262330500.0</td>\n",
       "      <td>135.480560</td>\n",
       "    </tr>\n",
       "    <tr>\n",
       "      <th>2021-01-01</th>\n",
       "      <td>145.089996</td>\n",
       "      <td>141.369995</td>\n",
       "      <td>143.600006</td>\n",
       "      <td>143.160004</td>\n",
       "      <td>185549500.0</td>\n",
       "      <td>141.893326</td>\n",
       "    </tr>\n",
       "    <tr>\n",
       "      <th>2021-04-01</th>\n",
       "      <td>137.410004</td>\n",
       "      <td>135.869995</td>\n",
       "      <td>136.470001</td>\n",
       "      <td>136.960007</td>\n",
       "      <td>151101000.0</td>\n",
       "      <td>136.181961</td>\n",
       "    </tr>\n",
       "    <tr>\n",
       "      <th>2021-07-01</th>\n",
       "      <td>157.259995</td>\n",
       "      <td>154.389999</td>\n",
       "      <td>156.979996</td>\n",
       "      <td>156.690002</td>\n",
       "      <td>140893200.0</td>\n",
       "      <td>156.033325</td>\n",
       "    </tr>\n",
       "    <tr>\n",
       "      <th>2021-10-01</th>\n",
       "      <td>182.130005</td>\n",
       "      <td>178.529999</td>\n",
       "      <td>181.119995</td>\n",
       "      <td>180.330002</td>\n",
       "      <td>195432700.0</td>\n",
       "      <td>179.836319</td>\n",
       "    </tr>\n",
       "    <tr>\n",
       "      <th>2022-01-03</th>\n",
       "      <td>182.940002</td>\n",
       "      <td>179.119995</td>\n",
       "      <td>182.630005</td>\n",
       "      <td>182.009995</td>\n",
       "      <td>179935700.0</td>\n",
       "      <td>181.511703</td>\n",
       "    </tr>\n",
       "    <tr>\n",
       "      <th>2022-04-01</th>\n",
       "      <td>178.490005</td>\n",
       "      <td>174.440002</td>\n",
       "      <td>177.500000</td>\n",
       "      <td>178.440002</td>\n",
       "      <td>131587100.0</td>\n",
       "      <td>178.178207</td>\n",
       "    </tr>\n",
       "  </tbody>\n",
       "</table>\n",
       "</div>"
      ],
      "text/plain": [
       "                  High         Low        Open       Close       Volume  \\\n",
       "Date                                                                      \n",
       "2017-04-03   39.162498   38.762501   39.002499   39.025002  289229200.0   \n",
       "2017-07-03   41.235001   40.907501   41.200001   41.012501  286856000.0   \n",
       "2017-10-02   44.299999   43.715000   43.777500   44.105000  237594400.0   \n",
       "2018-01-01   45.875000   45.052502   45.647499   45.430000  346375200.0   \n",
       "2018-04-02   48.549999   48.090000   48.535000   48.494999  266157600.0   \n",
       "2018-07-02   57.417500   56.657501   57.247501   57.090000  384986800.0   \n",
       "2018-10-01   58.367500   57.445000   57.695000   58.017502  382978400.0   \n",
       "2019-01-01   49.422501   47.695000   48.834999   48.772499  365248800.0   \n",
       "2019-04-01   53.827499   52.557499   52.722500   52.937500  259309200.0   \n",
       "2019-07-01   56.605000   55.715000   56.200001   55.992500  277125600.0   \n",
       "2019-10-01   73.492500   72.379997   72.779999   73.412498  275978000.0   \n",
       "2020-01-01   81.962502   80.837502   81.184998   81.800003  426510000.0   \n",
       "2020-04-01   93.095001   90.567497   91.250000   91.632500  264476000.0   \n",
       "2020-07-01  137.979996  130.529999  137.589996  134.179993  374336800.0   \n",
       "2020-10-01  138.789993  134.339996  138.050003  136.690002  262330500.0   \n",
       "2021-01-01  145.089996  141.369995  143.600006  143.160004  185549500.0   \n",
       "2021-04-01  137.410004  135.869995  136.470001  136.960007  151101000.0   \n",
       "2021-07-01  157.259995  154.389999  156.979996  156.690002  140893200.0   \n",
       "2021-10-01  182.130005  178.529999  181.119995  180.330002  195432700.0   \n",
       "2022-01-03  182.940002  179.119995  182.630005  182.009995  179935700.0   \n",
       "2022-04-01  178.490005  174.440002  177.500000  178.440002  131587100.0   \n",
       "\n",
       "             Adj Close  \n",
       "Date                    \n",
       "2017-04-03   36.943649  \n",
       "2017-07-03   38.977615  \n",
       "2017-10-02   42.067348  \n",
       "2018-01-01   43.507805  \n",
       "2018-04-02   46.622208  \n",
       "2018-07-02   55.077778  \n",
       "2018-10-01   55.972591  \n",
       "2019-01-01   47.420124  \n",
       "2019-04-01   51.469643  \n",
       "2019-07-01   54.857220  \n",
       "2019-10-01   72.139938  \n",
       "2020-01-01   80.572830  \n",
       "2020-04-01   90.502144  \n",
       "2020-07-01  132.763733  \n",
       "2020-10-01  135.480560  \n",
       "2021-01-01  141.893326  \n",
       "2021-04-01  136.181961  \n",
       "2021-07-01  156.033325  \n",
       "2021-10-01  179.836319  \n",
       "2022-01-03  181.511703  \n",
       "2022-04-01  178.178207  "
      ]
     },
     "execution_count": 51,
     "metadata": {},
     "output_type": "execute_result"
    }
   ],
   "source": [
    "##business quarters frequency\n",
    "df_aapl.resample(rule='BQS').max()"
   ]
  },
  {
   "cell_type": "code",
   "execution_count": 53,
   "id": "90283cb5",
   "metadata": {},
   "outputs": [
    {
     "data": {
      "text/plain": [
       "<AxesSubplot:xlabel='Date'>"
      ]
     },
     "execution_count": 53,
     "metadata": {},
     "output_type": "execute_result"
    },
    {
     "data": {
      "image/png": "[encoded data removed]",
      "text/plain": [
       "<Figure size 432x288 with 1 Axes>"
      ]
     },
     "metadata": {
      "needs_background": "light"
     },
     "output_type": "display_data"
    }
   ],
   "source": [
    "## we can also take single columns \n",
    "\n",
    "##plotting a barplot\n",
    "df_aapl['Open'].resample(rule='A').mean().plot(kind='bar')"
   ]
  },
  {
   "cell_type": "code",
   "execution_count": 58,
   "id": "733d7d4b",
   "metadata": {},
   "outputs": [
    {
     "data": {
      "text/plain": [
       "<AxesSubplot:xlabel='Date'>"
      ]
     },
     "execution_count": 58,
     "metadata": {},
     "output_type": "execute_result"
    },
    {
     "data": {
      "image/png": "[encoded data removed]",
      "text/plain": [
       "<Figure size 1080x432 with 1 Axes>"
      ]
     },
     "metadata": {
      "needs_background": "light"
     },
     "output_type": "display_data"
    }
   ],
   "source": [
    "df_aapl['Open'].resample(rule='M').max().plot(kind='bar',figsize=(15,6))"
   ]
  },
  {
   "cell_type": "code",
   "execution_count": null,
   "id": "19809207",
   "metadata": {},
   "outputs": [],
   "source": []
  }
 ],
 "metadata": {
  "kernelspec": {
   "display_name": "Python 3 (ipykernel)",
   "language": "python",
   "name": "python3"
  },
  "language_info": {
   "codemirror_mode": {
    "name": "ipython",
    "version": 3
   },
   "file_extension": ".py",
   "mimetype": "text/x-python",
   "name": "python",
   "nbconvert_exporter": "python",
   "pygments_lexer": "ipython3",
   "version": "3.9.7"
  }
 },
 "nbformat": 4,
 "nbformat_minor": 5
}
