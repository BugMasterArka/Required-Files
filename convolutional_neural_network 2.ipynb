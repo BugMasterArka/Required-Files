{
 "cells": [
  {
   "cell_type": "markdown",
   "metadata": {
    "colab_type": "text",
    "id": "3DR-eO17geWu"
   },
   "source": [
    "# Convolutional Neural Network"
   ]
  },
  {
   "cell_type": "markdown",
   "metadata": {
    "colab_type": "text",
    "id": "EMefrVPCg-60"
   },
   "source": [
    "### Importing the libraries"
   ]
  },
  {
   "cell_type": "code",
   "execution_count": 1,
   "metadata": {},
   "outputs": [],
   "source": [
    "import tensorflow as tf\n",
    "from keras.preprocessing.image import ImageDataGenerator"
   ]
  },
  {
   "cell_type": "code",
   "execution_count": 2,
   "metadata": {},
   "outputs": [
    {
     "data": {
      "text/plain": [
       "'2.8.0'"
      ]
     },
     "execution_count": 2,
     "metadata": {},
     "output_type": "execute_result"
    }
   ],
   "source": [
    "tf.__version__"
   ]
  },
  {
   "cell_type": "markdown",
   "metadata": {
    "colab_type": "text",
    "id": "oxQxCBWyoGPE"
   },
   "source": [
    "## Part 1 - Data Preprocessing"
   ]
  },
  {
   "cell_type": "markdown",
   "metadata": {
    "colab_type": "text",
    "id": "MvE-heJNo3GG"
   },
   "source": [
    "### Preprocessing the Training set"
   ]
  },
  {
   "cell_type": "code",
   "execution_count": 3,
   "metadata": {},
   "outputs": [
    {
     "name": "stdout",
     "output_type": "stream",
     "text": [
      "Found 8000 images belonging to 2 classes.\n"
     ]
    }
   ],
   "source": [
    "train_datagen = ImageDataGenerator(\n",
    "        rescale=1./255,\n",
    "        shear_range=0.2,\n",
    "        zoom_range=0.2,\n",
    "        horizontal_flip=True)\n",
    "training_set = train_datagen.flow_from_directory(\n",
    "        'D:/cnn/Section 40 - Convolutional Neural Networks (CNN)/dataset/training_set',\n",
    "        target_size=(64, 64),\n",
    "        batch_size=32,\n",
    "        class_mode='binary')"
   ]
  },
  {
   "cell_type": "markdown",
   "metadata": {
    "colab_type": "text",
    "id": "mrCMmGw9pHys"
   },
   "source": [
    "### Preprocessing the Test set"
   ]
  },
  {
   "cell_type": "code",
   "execution_count": 4,
   "metadata": {},
   "outputs": [
    {
     "name": "stdout",
     "output_type": "stream",
     "text": [
      "Found 2000 images belonging to 2 classes.\n"
     ]
    }
   ],
   "source": [
    "test_datagen = ImageDataGenerator(rescale=1./255)\n",
    "test_set = test_datagen.flow_from_directory(\n",
    "        'D:/cnn/Section 40 - Convolutional Neural Networks (CNN)/dataset/test_set',\n",
    "        target_size=(64, 64),\n",
    "        batch_size=32,\n",
    "        class_mode='binary')"
   ]
  },
  {
   "cell_type": "markdown",
   "metadata": {
    "colab_type": "text",
    "id": "af8O4l90gk7B"
   },
   "source": [
    "## Part 2 - Building the CNN"
   ]
  },
  {
   "cell_type": "markdown",
   "metadata": {
    "colab_type": "text",
    "id": "ces1gXY2lmoX"
   },
   "source": [
    "### Initialising the CNN"
   ]
  },
  {
   "cell_type": "code",
   "execution_count": 5,
   "metadata": {},
   "outputs": [],
   "source": [
    "cnn = tf.keras.models.Sequential()"
   ]
  },
  {
   "cell_type": "markdown",
   "metadata": {
    "colab_type": "text",
    "id": "u5YJj_XMl5LF"
   },
   "source": [
    "### Step 1 - Convolution"
   ]
  },
  {
   "cell_type": "code",
   "execution_count": 6,
   "metadata": {},
   "outputs": [],
   "source": [
    "cnn.add(tf.keras.layers.Conv2D(filters=32,kernel_size=3,activation='relu',input_shape=[64, 64, 3]))"
   ]
  },
  {
   "cell_type": "markdown",
   "metadata": {
    "colab_type": "text",
    "id": "tf87FpvxmNOJ"
   },
   "source": [
    "### Step 2 - Pooling"
   ]
  },
  {
   "cell_type": "code",
   "execution_count": 7,
   "metadata": {},
   "outputs": [],
   "source": [
    "cnn.add(tf.keras.layers.MaxPool2D(pool_size=2,strides=2))"
   ]
  },
  {
   "cell_type": "markdown",
   "metadata": {
    "colab_type": "text",
    "id": "xaTOgD8rm4mU"
   },
   "source": [
    "### Adding a second convolutional layer"
   ]
  },
  {
   "cell_type": "code",
   "execution_count": 8,
   "metadata": {},
   "outputs": [],
   "source": [
    "cnn.add(tf.keras.layers.Conv2D(filters=32,kernel_size=3,activation='relu'))\n",
    "cnn.add(tf.keras.layers.MaxPool2D(pool_size=2,strides=2))"
   ]
  },
  {
   "cell_type": "markdown",
   "metadata": {
    "colab_type": "text",
    "id": "tmiEuvTunKfk"
   },
   "source": [
    "### Step 3 - Flattening"
   ]
  },
  {
   "cell_type": "code",
   "execution_count": 9,
   "metadata": {},
   "outputs": [],
   "source": [
    "cnn.add(tf.keras.layers.Flatten())"
   ]
  },
  {
   "cell_type": "markdown",
   "metadata": {
    "colab_type": "text",
    "id": "dAoSECOm203v"
   },
   "source": [
    "### Step 4 - Full Connection"
   ]
  },
  {
   "cell_type": "code",
   "execution_count": 10,
   "metadata": {},
   "outputs": [],
   "source": [
    "cnn.add(tf.keras.layers.Dense(units=128,activation='relu'))"
   ]
  },
  {
   "cell_type": "markdown",
   "metadata": {
    "colab_type": "text",
    "id": "yTldFvbX28Na"
   },
   "source": [
    "### Step 5 - Output Layer"
   ]
  },
  {
   "cell_type": "code",
   "execution_count": 11,
   "metadata": {},
   "outputs": [],
   "source": [
    "cnn.add(tf.keras.layers.Dense(units=1,activation='sigmoid'))"
   ]
  },
  {
   "cell_type": "markdown",
   "metadata": {
    "colab_type": "text",
    "id": "D6XkI90snSDl"
   },
   "source": [
    "## Part 3 - Training the CNN"
   ]
  },
  {
   "cell_type": "markdown",
   "metadata": {
    "colab_type": "text",
    "id": "vfrFQACEnc6i"
   },
   "source": [
    "### Compiling the CNN"
   ]
  },
  {
   "cell_type": "code",
   "execution_count": 12,
   "metadata": {},
   "outputs": [],
   "source": [
    "cnn.compile(optimizer='adam',loss='binary_crossentropy',metrics=['accuracy'])"
   ]
  },
  {
   "cell_type": "markdown",
   "metadata": {
    "colab_type": "text",
    "id": "ehS-v3MIpX2h"
   },
   "source": [
    "### Training the CNN on the Training set and evaluating it on the Test set"
   ]
  },
  {
   "cell_type": "code",
   "execution_count": 13,
   "metadata": {},
   "outputs": [
    {
     "name": "stdout",
     "output_type": "stream",
     "text": [
      "Epoch 1/25\n",
      "250/250 [==============================] - 35s 125ms/step - loss: 0.6850 - accuracy: 0.5496 - val_loss: 0.6568 - val_accuracy: 0.6130\n",
      "Epoch 2/25\n",
      "250/250 [==============================] - 29s 118ms/step - loss: 0.6322 - accuracy: 0.6482 - val_loss: 0.6023 - val_accuracy: 0.6800\n",
      "Epoch 3/25\n",
      "250/250 [==============================] - 26s 105ms/step - loss: 0.5913 - accuracy: 0.6877 - val_loss: 0.6770 - val_accuracy: 0.6495\n",
      "Epoch 4/25\n",
      "250/250 [==============================] - 26s 103ms/step - loss: 0.5599 - accuracy: 0.7117 - val_loss: 0.5934 - val_accuracy: 0.7010\n",
      "Epoch 5/25\n",
      "250/250 [==============================] - 26s 103ms/step - loss: 0.5455 - accuracy: 0.7232 - val_loss: 0.5597 - val_accuracy: 0.7270\n",
      "Epoch 6/25\n",
      "250/250 [==============================] - 26s 103ms/step - loss: 0.5269 - accuracy: 0.7389 - val_loss: 0.5566 - val_accuracy: 0.7340\n",
      "Epoch 7/25\n",
      "250/250 [==============================] - 26s 103ms/step - loss: 0.4993 - accuracy: 0.7556 - val_loss: 0.5408 - val_accuracy: 0.7450\n",
      "Epoch 8/25\n",
      "250/250 [==============================] - 26s 103ms/step - loss: 0.4805 - accuracy: 0.7700 - val_loss: 0.5762 - val_accuracy: 0.6935\n",
      "Epoch 9/25\n",
      "250/250 [==============================] - 26s 104ms/step - loss: 0.4704 - accuracy: 0.7746 - val_loss: 0.4974 - val_accuracy: 0.7785\n",
      "Epoch 10/25\n",
      "250/250 [==============================] - 26s 104ms/step - loss: 0.4564 - accuracy: 0.7810 - val_loss: 0.4689 - val_accuracy: 0.7730\n",
      "Epoch 11/25\n",
      "250/250 [==============================] - 26s 103ms/step - loss: 0.4419 - accuracy: 0.7974 - val_loss: 0.5193 - val_accuracy: 0.7565\n",
      "Epoch 12/25\n",
      "250/250 [==============================] - 26s 104ms/step - loss: 0.4217 - accuracy: 0.8101 - val_loss: 0.5001 - val_accuracy: 0.7735\n",
      "Epoch 13/25\n",
      "250/250 [==============================] - 28s 111ms/step - loss: 0.4179 - accuracy: 0.8076 - val_loss: 0.4721 - val_accuracy: 0.7745\n",
      "Epoch 14/25\n",
      "250/250 [==============================] - 29s 116ms/step - loss: 0.3870 - accuracy: 0.8206 - val_loss: 0.4640 - val_accuracy: 0.7925\n",
      "Epoch 15/25\n",
      "250/250 [==============================] - 26s 103ms/step - loss: 0.3870 - accuracy: 0.8265 - val_loss: 0.4986 - val_accuracy: 0.7835\n",
      "Epoch 16/25\n",
      "250/250 [==============================] - 26s 104ms/step - loss: 0.3772 - accuracy: 0.8317 - val_loss: 0.4842 - val_accuracy: 0.7940\n",
      "Epoch 17/25\n",
      "250/250 [==============================] - 26s 103ms/step - loss: 0.3632 - accuracy: 0.8375 - val_loss: 0.4925 - val_accuracy: 0.7970\n",
      "Epoch 18/25\n",
      "250/250 [==============================] - 26s 103ms/step - loss: 0.3533 - accuracy: 0.8411 - val_loss: 0.4625 - val_accuracy: 0.7940\n",
      "Epoch 19/25\n",
      "250/250 [==============================] - 28s 110ms/step - loss: 0.3370 - accuracy: 0.8496 - val_loss: 0.4777 - val_accuracy: 0.7945\n",
      "Epoch 20/25\n",
      "250/250 [==============================] - 26s 106ms/step - loss: 0.3263 - accuracy: 0.8600 - val_loss: 0.4843 - val_accuracy: 0.7895\n",
      "Epoch 21/25\n",
      "250/250 [==============================] - 26s 105ms/step - loss: 0.3160 - accuracy: 0.8637 - val_loss: 0.5062 - val_accuracy: 0.7840\n",
      "Epoch 22/25\n",
      "250/250 [==============================] - 26s 105ms/step - loss: 0.3028 - accuracy: 0.8712 - val_loss: 0.4955 - val_accuracy: 0.7915\n",
      "Epoch 23/25\n",
      "250/250 [==============================] - 27s 106ms/step - loss: 0.3008 - accuracy: 0.8665 - val_loss: 0.5180 - val_accuracy: 0.7935\n",
      "Epoch 24/25\n",
      "250/250 [==============================] - 27s 109ms/step - loss: 0.2800 - accuracy: 0.8810 - val_loss: 0.5437 - val_accuracy: 0.7890\n",
      "Epoch 25/25\n",
      "250/250 [==============================] - 29s 116ms/step - loss: 0.2736 - accuracy: 0.8842 - val_loss: 0.5356 - val_accuracy: 0.7870\n"
     ]
    },
    {
     "data": {
      "text/plain": [
       "<keras.callbacks.History at 0x2408d10cac0>"
      ]
     },
     "execution_count": 13,
     "metadata": {},
     "output_type": "execute_result"
    }
   ],
   "source": [
    "cnn.fit(x = training_set, validation_data = test_set, epochs = 25)"
   ]
  },
  {
   "cell_type": "markdown",
   "metadata": {
    "colab_type": "text",
    "id": "U3PZasO0006Z"
   },
   "source": [
    "## Part 4 - Making a single prediction"
   ]
  },
  {
   "cell_type": "code",
   "execution_count": 14,
   "metadata": {},
   "outputs": [],
   "source": [
    "import numpy as np\n",
    "from keras.preprocessing import image\n",
    "test_image = image.load_img('D:/cnn/Section 40 - Convolutional Neural Networks (CNN)/dataset/single_prediction/cat_or_dog_1.jpg',target_size = (64, 64))\n",
    "test_image = image.img_to_array(test_image)\n",
    "test_image = np.expand_dims(test_image,axis=0)\n",
    "result = cnn.predict(test_image/255.0)\n",
    "training_set.class_indices\n",
    "if result[0][0] > 0.5:\n",
    "    prediction = 'dog'\n",
    "else:\n",
    "    prediction = 'cat'"
   ]
  },
  {
   "cell_type": "code",
   "execution_count": 15,
   "metadata": {},
   "outputs": [
    {
     "name": "stdout",
     "output_type": "stream",
     "text": [
      "dog\n"
     ]
    }
   ],
   "source": [
    "print(prediction)"
   ]
  }
 ],
 "metadata": {
  "colab": {
   "authorship_tag": "ABX9TyON0YxX/oky4tPbqCLnFjWD",
   "collapsed_sections": [],
   "name": "convolutional_neural_network.ipynb",
   "provenance": [],
   "toc_visible": true
  },
  "kernelspec": {
   "display_name": "Python 3 (ipykernel)",
   "language": "python",
   "name": "python3"
  },
  "language_info": {
   "codemirror_mode": {
    "name": "ipython",
    "version": 3
   },
   "file_extension": ".py",
   "mimetype": "text/x-python",
   "name": "python",
   "nbconvert_exporter": "python",
   "pygments_lexer": "ipython3",
   "version": "3.9.7"
  }
 },
 "nbformat": 4,
 "nbformat_minor": 1
}
