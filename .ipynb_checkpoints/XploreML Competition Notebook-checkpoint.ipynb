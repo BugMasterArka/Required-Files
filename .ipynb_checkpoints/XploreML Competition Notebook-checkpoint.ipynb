{
 "cells": [
  {
   "cell_type": "markdown",
   "id": "3ce651b0",
   "metadata": {},
   "source": [
    "## Importing the Libraries"
   ]
  },
  {
   "cell_type": "code",
   "execution_count": 1,
   "id": "0a79bcf5",
   "metadata": {},
   "outputs": [],
   "source": [
    "# Libraries for Data Preprocessing\n",
    "import numpy as np\n",
    "import pandas as pd\n",
    "import seaborn as sns\n",
    "from sklearn.preprocessing import LabelEncoder\n",
    "from sklearn.model_selection import train_test_split\n",
    "from sklearn.preprocessing import StandardScaler\n",
    "\n",
    "# Libraries for Classifiers\n",
    "from sklearn.linear_model import LogisticRegression\n",
    "from sklearn.neighbors import KNeighborsClassifier\n",
    "from sklearn.naive_bayes import GaussianNB\n",
    "from sklearn.tree import DecisionTreeClassifier\n",
    "from sklearn.ensemble import RandomForestClassifier\n",
    "from sklearn.model_selection import RandomizedSearchCV\n",
    "from xgboost import XGBClassifier\n",
    "from sklearn.svm import SVC\n",
    "\n",
    "# Libraries for measuring accuracy\n",
    "from sklearn.metrics import accuracy_score\n",
    "from sklearn.metrics import confusion_matrix\n",
    "import matplotlib.pyplot as plt \n",
    "from matplotlib.legend_handler import HandlerBase\n",
    "from sklearn.model_selection import cross_val_score\n",
    "from matplotlib.text import Text\n",
    "%matplotlib inline"
   ]
  },
  {
   "cell_type": "markdown",
   "id": "45b9c6ed",
   "metadata": {},
   "source": [
    "## Importing the Dataset"
   ]
  },
  {
   "cell_type": "code",
   "execution_count": 2,
   "id": "aa51cf83",
   "metadata": {},
   "outputs": [
    {
     "data": {
      "text/html": [
       "<div>\n",
       "<style scoped>\n",
       "    .dataframe tbody tr th:only-of-type {\n",
       "        vertical-align: middle;\n",
       "    }\n",
       "\n",
       "    .dataframe tbody tr th {\n",
       "        vertical-align: top;\n",
       "    }\n",
       "\n",
       "    .dataframe thead th {\n",
       "        text-align: right;\n",
       "    }\n",
       "</style>\n",
       "<table border=\"1\" class=\"dataframe\">\n",
       "  <thead>\n",
       "    <tr style=\"text-align: right;\">\n",
       "      <th></th>\n",
       "      <th>Unnamed: 0</th>\n",
       "      <th>TX_ID</th>\n",
       "      <th>SENDER_ACCOUNT_ID</th>\n",
       "      <th>RECEIVER_ACCOUNT_ID</th>\n",
       "      <th>TX_TYPE</th>\n",
       "      <th>TX_AMOUNT</th>\n",
       "      <th>TIMESTAMP</th>\n",
       "      <th>ALERT_ID</th>\n",
       "      <th>IS_FRAUD</th>\n",
       "    </tr>\n",
       "  </thead>\n",
       "  <tbody>\n",
       "    <tr>\n",
       "      <th>0</th>\n",
       "      <td>40088</td>\n",
       "      <td>40089</td>\n",
       "      <td>5417</td>\n",
       "      <td>3924</td>\n",
       "      <td>TRANSFER</td>\n",
       "      <td>539.21</td>\n",
       "      <td>6</td>\n",
       "      <td>-1</td>\n",
       "      <td>False</td>\n",
       "    </tr>\n",
       "    <tr>\n",
       "      <th>1</th>\n",
       "      <td>425743</td>\n",
       "      <td>425744</td>\n",
       "      <td>9772</td>\n",
       "      <td>5642</td>\n",
       "      <td>TRANSFER</td>\n",
       "      <td>176.72</td>\n",
       "      <td>64</td>\n",
       "      <td>-1</td>\n",
       "      <td>False</td>\n",
       "    </tr>\n",
       "    <tr>\n",
       "      <th>2</th>\n",
       "      <td>968569</td>\n",
       "      <td>968570</td>\n",
       "      <td>2485</td>\n",
       "      <td>2426</td>\n",
       "      <td>TRANSFER</td>\n",
       "      <td>525.05</td>\n",
       "      <td>146</td>\n",
       "      <td>-1</td>\n",
       "      <td>False</td>\n",
       "    </tr>\n",
       "    <tr>\n",
       "      <th>3</th>\n",
       "      <td>89988</td>\n",
       "      <td>89989</td>\n",
       "      <td>4637</td>\n",
       "      <td>8161</td>\n",
       "      <td>TRANSFER</td>\n",
       "      <td>187.74</td>\n",
       "      <td>14</td>\n",
       "      <td>-1</td>\n",
       "      <td>False</td>\n",
       "    </tr>\n",
       "    <tr>\n",
       "      <th>4</th>\n",
       "      <td>830187</td>\n",
       "      <td>830188</td>\n",
       "      <td>7607</td>\n",
       "      <td>9968</td>\n",
       "      <td>TRANSFER</td>\n",
       "      <td>198.58</td>\n",
       "      <td>125</td>\n",
       "      <td>-1</td>\n",
       "      <td>False</td>\n",
       "    </tr>\n",
       "  </tbody>\n",
       "</table>\n",
       "</div>"
      ],
      "text/plain": [
       "   Unnamed: 0   TX_ID  SENDER_ACCOUNT_ID  RECEIVER_ACCOUNT_ID   TX_TYPE  \\\n",
       "0       40088   40089               5417                 3924  TRANSFER   \n",
       "1      425743  425744               9772                 5642  TRANSFER   \n",
       "2      968569  968570               2485                 2426  TRANSFER   \n",
       "3       89988   89989               4637                 8161  TRANSFER   \n",
       "4      830187  830188               7607                 9968  TRANSFER   \n",
       "\n",
       "   TX_AMOUNT  TIMESTAMP  ALERT_ID  IS_FRAUD  \n",
       "0     539.21          6        -1     False  \n",
       "1     176.72         64        -1     False  \n",
       "2     525.05        146        -1     False  \n",
       "3     187.74         14        -1     False  \n",
       "4     198.58        125        -1     False  "
      ]
     },
     "execution_count": 2,
     "metadata": {},
     "output_type": "execute_result"
    }
   ],
   "source": [
    "df = pd.read_csv('D:/comp dataset/dataset.csv')\n",
    "df.head()"
   ]
  },
  {
   "cell_type": "markdown",
   "id": "06857955",
   "metadata": {},
   "source": [
    "## Exploratory Data Analysis"
   ]
  },
  {
   "cell_type": "code",
   "execution_count": 3,
   "id": "dddd8a7a",
   "metadata": {},
   "outputs": [],
   "source": [
    "sns.set_style(\"darkgrid\", {\"grid.color\": \".6\"})"
   ]
  },
  {
   "cell_type": "markdown",
   "id": "c7b84143",
   "metadata": {},
   "source": [
    "### Checking columns of the Dataset"
   ]
  },
  {
   "cell_type": "code",
   "execution_count": 4,
   "id": "c3c2f339",
   "metadata": {
    "scrolled": true
   },
   "outputs": [
    {
     "name": "stdout",
     "output_type": "stream",
     "text": [
      "<class 'pandas.core.frame.DataFrame'>\n",
      "RangeIndex: 992425 entries, 0 to 992424\n",
      "Data columns (total 9 columns):\n",
      " #   Column               Non-Null Count   Dtype  \n",
      "---  ------               --------------   -----  \n",
      " 0   Unnamed: 0           992425 non-null  int64  \n",
      " 1   TX_ID                992425 non-null  int64  \n",
      " 2   SENDER_ACCOUNT_ID    992425 non-null  int64  \n",
      " 3   RECEIVER_ACCOUNT_ID  992425 non-null  int64  \n",
      " 4   TX_TYPE              992425 non-null  object \n",
      " 5   TX_AMOUNT            992425 non-null  float64\n",
      " 6   TIMESTAMP            992425 non-null  int64  \n",
      " 7   ALERT_ID             992425 non-null  int64  \n",
      " 8   IS_FRAUD             992425 non-null  bool   \n",
      "dtypes: bool(1), float64(1), int64(6), object(1)\n",
      "memory usage: 61.5+ MB\n"
     ]
    }
   ],
   "source": [
    "df.info()"
   ]
  },
  {
   "cell_type": "code",
   "execution_count": 5,
   "id": "1d9e0f80",
   "metadata": {},
   "outputs": [
    {
     "data": {
      "text/html": [
       "<div>\n",
       "<style scoped>\n",
       "    .dataframe tbody tr th:only-of-type {\n",
       "        vertical-align: middle;\n",
       "    }\n",
       "\n",
       "    .dataframe tbody tr th {\n",
       "        vertical-align: top;\n",
       "    }\n",
       "\n",
       "    .dataframe thead th {\n",
       "        text-align: right;\n",
       "    }\n",
       "</style>\n",
       "<table border=\"1\" class=\"dataframe\">\n",
       "  <thead>\n",
       "    <tr style=\"text-align: right;\">\n",
       "      <th></th>\n",
       "      <th>Unnamed: 0</th>\n",
       "      <th>TX_ID</th>\n",
       "      <th>SENDER_ACCOUNT_ID</th>\n",
       "      <th>RECEIVER_ACCOUNT_ID</th>\n",
       "      <th>TX_AMOUNT</th>\n",
       "      <th>TIMESTAMP</th>\n",
       "      <th>ALERT_ID</th>\n",
       "    </tr>\n",
       "  </thead>\n",
       "  <tbody>\n",
       "    <tr>\n",
       "      <th>count</th>\n",
       "      <td>9.924250e+05</td>\n",
       "      <td>9.924250e+05</td>\n",
       "      <td>992425.000000</td>\n",
       "      <td>992425.000000</td>\n",
       "      <td>9.924250e+05</td>\n",
       "      <td>992425.000000</td>\n",
       "      <td>992425.000000</td>\n",
       "    </tr>\n",
       "    <tr>\n",
       "      <th>mean</th>\n",
       "      <td>6.614218e+05</td>\n",
       "      <td>6.614228e+05</td>\n",
       "      <td>6026.243853</td>\n",
       "      <td>6806.620260</td>\n",
       "      <td>1.162903e+05</td>\n",
       "      <td>99.948883</td>\n",
       "      <td>-0.730260</td>\n",
       "    </tr>\n",
       "    <tr>\n",
       "      <th>std</th>\n",
       "      <td>3.820598e+05</td>\n",
       "      <td>3.820598e+05</td>\n",
       "      <td>2919.135408</td>\n",
       "      <td>2844.379972</td>\n",
       "      <td>1.321370e+06</td>\n",
       "      <td>57.538525</td>\n",
       "      <td>8.549525</td>\n",
       "    </tr>\n",
       "    <tr>\n",
       "      <th>min</th>\n",
       "      <td>0.000000e+00</td>\n",
       "      <td>1.000000e+00</td>\n",
       "      <td>1.000000</td>\n",
       "      <td>3.000000</td>\n",
       "      <td>0.000000e+00</td>\n",
       "      <td>0.000000</td>\n",
       "      <td>-1.000000</td>\n",
       "    </tr>\n",
       "    <tr>\n",
       "      <th>25%</th>\n",
       "      <td>3.304510e+05</td>\n",
       "      <td>3.304520e+05</td>\n",
       "      <td>3611.000000</td>\n",
       "      <td>4671.000000</td>\n",
       "      <td>2.384000e+01</td>\n",
       "      <td>50.000000</td>\n",
       "      <td>-1.000000</td>\n",
       "    </tr>\n",
       "    <tr>\n",
       "      <th>50%</th>\n",
       "      <td>6.614360e+05</td>\n",
       "      <td>6.614370e+05</td>\n",
       "      <td>6533.000000</td>\n",
       "      <td>7587.000000</td>\n",
       "      <td>1.567200e+02</td>\n",
       "      <td>100.000000</td>\n",
       "      <td>-1.000000</td>\n",
       "    </tr>\n",
       "    <tr>\n",
       "      <th>75%</th>\n",
       "      <td>9.921870e+05</td>\n",
       "      <td>9.921880e+05</td>\n",
       "      <td>8690.000000</td>\n",
       "      <td>9355.000000</td>\n",
       "      <td>4.400000e+02</td>\n",
       "      <td>150.000000</td>\n",
       "      <td>-1.000000</td>\n",
       "    </tr>\n",
       "    <tr>\n",
       "      <th>max</th>\n",
       "      <td>1.323233e+06</td>\n",
       "      <td>1.323234e+06</td>\n",
       "      <td>9999.000000</td>\n",
       "      <td>9999.000000</td>\n",
       "      <td>2.147484e+07</td>\n",
       "      <td>199.000000</td>\n",
       "      <td>399.000000</td>\n",
       "    </tr>\n",
       "  </tbody>\n",
       "</table>\n",
       "</div>"
      ],
      "text/plain": [
       "         Unnamed: 0         TX_ID  SENDER_ACCOUNT_ID  RECEIVER_ACCOUNT_ID  \\\n",
       "count  9.924250e+05  9.924250e+05      992425.000000        992425.000000   \n",
       "mean   6.614218e+05  6.614228e+05        6026.243853          6806.620260   \n",
       "std    3.820598e+05  3.820598e+05        2919.135408          2844.379972   \n",
       "min    0.000000e+00  1.000000e+00           1.000000             3.000000   \n",
       "25%    3.304510e+05  3.304520e+05        3611.000000          4671.000000   \n",
       "50%    6.614360e+05  6.614370e+05        6533.000000          7587.000000   \n",
       "75%    9.921870e+05  9.921880e+05        8690.000000          9355.000000   \n",
       "max    1.323233e+06  1.323234e+06        9999.000000          9999.000000   \n",
       "\n",
       "          TX_AMOUNT      TIMESTAMP       ALERT_ID  \n",
       "count  9.924250e+05  992425.000000  992425.000000  \n",
       "mean   1.162903e+05      99.948883      -0.730260  \n",
       "std    1.321370e+06      57.538525       8.549525  \n",
       "min    0.000000e+00       0.000000      -1.000000  \n",
       "25%    2.384000e+01      50.000000      -1.000000  \n",
       "50%    1.567200e+02     100.000000      -1.000000  \n",
       "75%    4.400000e+02     150.000000      -1.000000  \n",
       "max    2.147484e+07     199.000000     399.000000  "
      ]
     },
     "execution_count": 5,
     "metadata": {},
     "output_type": "execute_result"
    }
   ],
   "source": [
    "df.describe()"
   ]
  },
  {
   "cell_type": "markdown",
   "id": "de154622",
   "metadata": {},
   "source": [
    "### Checking presence of Null Values"
   ]
  },
  {
   "cell_type": "code",
   "execution_count": 6,
   "id": "8f6f5390",
   "metadata": {},
   "outputs": [
    {
     "data": {
      "text/plain": [
       "Unnamed: 0             0\n",
       "TX_ID                  0\n",
       "SENDER_ACCOUNT_ID      0\n",
       "RECEIVER_ACCOUNT_ID    0\n",
       "TX_TYPE                0\n",
       "TX_AMOUNT              0\n",
       "TIMESTAMP              0\n",
       "ALERT_ID               0\n",
       "IS_FRAUD               0\n",
       "dtype: int64"
      ]
     },
     "execution_count": 6,
     "metadata": {},
     "output_type": "execute_result"
    }
   ],
   "source": [
    "df.isnull().sum()"
   ]
  },
  {
   "cell_type": "markdown",
   "id": "30d2b38b",
   "metadata": {},
   "source": [
    "### Checking unique values and their counts in the IS_FRAUD column"
   ]
  },
  {
   "cell_type": "code",
   "execution_count": 7,
   "id": "26f1098b",
   "metadata": {},
   "outputs": [
    {
     "data": {
      "text/plain": [
       "False    991143\n",
       "True       1282\n",
       "Name: IS_FRAUD, dtype: int64"
      ]
     },
     "execution_count": 7,
     "metadata": {},
     "output_type": "execute_result"
    }
   ],
   "source": [
    "df['IS_FRAUD'].value_counts()"
   ]
  },
  {
   "cell_type": "code",
   "execution_count": 8,
   "id": "9e9a602c",
   "metadata": {},
   "outputs": [
    {
     "name": "stderr",
     "output_type": "stream",
     "text": [
      "D:\\conda\\lib\\site-packages\\seaborn\\_decorators.py:36: FutureWarning: Pass the following variable as a keyword arg: x. From version 0.12, the only valid positional argument will be `data`, and passing other arguments without an explicit keyword will result in an error or misinterpretation.\n",
      "  warnings.warn(\n"
     ]
    },
    {
     "data": {
      "text/plain": [
       "<AxesSubplot:xlabel='IS_FRAUD', ylabel='count'>"
      ]
     },
     "execution_count": 8,
     "metadata": {},
     "output_type": "execute_result"
    },
    {
     "data": {
      "image/png": "[encoded data removed]",
      "text/plain": [
       "<Figure size 432x288 with 1 Axes>"
      ]
     },
     "metadata": {},
     "output_type": "display_data"
    }
   ],
   "source": [
    "sns.countplot(df['IS_FRAUD'])"
   ]
  },
  {
   "cell_type": "markdown",
   "id": "bc4f008d",
   "metadata": {},
   "source": [
    "### Checking unique values in TX_TYPE column"
   ]
  },
  {
   "cell_type": "code",
   "execution_count": 9,
   "id": "eea865b8",
   "metadata": {},
   "outputs": [
    {
     "data": {
      "text/plain": [
       "array(['TRANSFER'], dtype=object)"
      ]
     },
     "execution_count": 9,
     "metadata": {},
     "output_type": "execute_result"
    }
   ],
   "source": [
    "df['TX_TYPE'].unique()"
   ]
  },
  {
   "cell_type": "markdown",
   "id": "18521dd1",
   "metadata": {},
   "source": [
    "### Plotting Correlation Heatmap"
   ]
  },
  {
   "cell_type": "code",
   "execution_count": 10,
   "id": "c3c7f218",
   "metadata": {},
   "outputs": [
    {
     "data": {
      "text/plain": [
       "<AxesSubplot:>"
      ]
     },
     "execution_count": 10,
     "metadata": {},
     "output_type": "execute_result"
    },
    {
     "data": {
      "image/png": "[encoded data removed]",
      "text/plain": [
       "<Figure size 864x576 with 2 Axes>"
      ]
     },
     "metadata": {},
     "output_type": "display_data"
    }
   ],
   "source": [
    "plt.figure(figsize=(12,8))\n",
    "sns.heatmap(df.corr(),annot=True,cmap='coolwarm')"
   ]
  },
  {
   "cell_type": "markdown",
   "id": "64644b71",
   "metadata": {},
   "source": [
    "### Checking the variation of Transaction Amount"
   ]
  },
  {
   "cell_type": "code",
   "execution_count": 11,
   "id": "7ec5e68b",
   "metadata": {},
   "outputs": [
    {
     "data": {
      "text/plain": [
       "<AxesSubplot:xlabel='TX_AMOUNT', ylabel='Count'>"
      ]
     },
     "execution_count": 11,
     "metadata": {},
     "output_type": "execute_result"
    },
    {
     "data": {
      "image/png": "[encoded data removed]",
      "text/plain": [
       "<Figure size 864x288 with 1 Axes>"
      ]
     },
     "metadata": {},
     "output_type": "display_data"
    }
   ],
   "source": [
    "plt.figure(figsize=(12,4))\n",
    "sns.histplot(data=df[df['IS_FRAUD']==True],x='TX_AMOUNT',kde=True)"
   ]
  },
  {
   "cell_type": "markdown",
   "id": "901fec72",
   "metadata": {},
   "source": [
    "## Feature Engineering"
   ]
  },
  {
   "cell_type": "markdown",
   "id": "214846fd",
   "metadata": {},
   "source": [
    "### Label Encoding thee categorical column TX_TYPE"
   ]
  },
  {
   "cell_type": "code",
   "execution_count": 12,
   "id": "0cc3027c",
   "metadata": {
    "scrolled": true
   },
   "outputs": [
    {
     "data": {
      "text/html": [
       "<div>\n",
       "<style scoped>\n",
       "    .dataframe tbody tr th:only-of-type {\n",
       "        vertical-align: middle;\n",
       "    }\n",
       "\n",
       "    .dataframe tbody tr th {\n",
       "        vertical-align: top;\n",
       "    }\n",
       "\n",
       "    .dataframe thead th {\n",
       "        text-align: right;\n",
       "    }\n",
       "</style>\n",
       "<table border=\"1\" class=\"dataframe\">\n",
       "  <thead>\n",
       "    <tr style=\"text-align: right;\">\n",
       "      <th></th>\n",
       "      <th>Unnamed: 0</th>\n",
       "      <th>TX_ID</th>\n",
       "      <th>SENDER_ACCOUNT_ID</th>\n",
       "      <th>RECEIVER_ACCOUNT_ID</th>\n",
       "      <th>TX_TYPE</th>\n",
       "      <th>TX_AMOUNT</th>\n",
       "      <th>TIMESTAMP</th>\n",
       "      <th>ALERT_ID</th>\n",
       "      <th>IS_FRAUD</th>\n",
       "    </tr>\n",
       "  </thead>\n",
       "  <tbody>\n",
       "    <tr>\n",
       "      <th>0</th>\n",
       "      <td>40088</td>\n",
       "      <td>40089</td>\n",
       "      <td>5417</td>\n",
       "      <td>3924</td>\n",
       "      <td>0</td>\n",
       "      <td>539.21</td>\n",
       "      <td>6</td>\n",
       "      <td>-1</td>\n",
       "      <td>False</td>\n",
       "    </tr>\n",
       "    <tr>\n",
       "      <th>1</th>\n",
       "      <td>425743</td>\n",
       "      <td>425744</td>\n",
       "      <td>9772</td>\n",
       "      <td>5642</td>\n",
       "      <td>0</td>\n",
       "      <td>176.72</td>\n",
       "      <td>64</td>\n",
       "      <td>-1</td>\n",
       "      <td>False</td>\n",
       "    </tr>\n",
       "    <tr>\n",
       "      <th>2</th>\n",
       "      <td>968569</td>\n",
       "      <td>968570</td>\n",
       "      <td>2485</td>\n",
       "      <td>2426</td>\n",
       "      <td>0</td>\n",
       "      <td>525.05</td>\n",
       "      <td>146</td>\n",
       "      <td>-1</td>\n",
       "      <td>False</td>\n",
       "    </tr>\n",
       "    <tr>\n",
       "      <th>3</th>\n",
       "      <td>89988</td>\n",
       "      <td>89989</td>\n",
       "      <td>4637</td>\n",
       "      <td>8161</td>\n",
       "      <td>0</td>\n",
       "      <td>187.74</td>\n",
       "      <td>14</td>\n",
       "      <td>-1</td>\n",
       "      <td>False</td>\n",
       "    </tr>\n",
       "    <tr>\n",
       "      <th>4</th>\n",
       "      <td>830187</td>\n",
       "      <td>830188</td>\n",
       "      <td>7607</td>\n",
       "      <td>9968</td>\n",
       "      <td>0</td>\n",
       "      <td>198.58</td>\n",
       "      <td>125</td>\n",
       "      <td>-1</td>\n",
       "      <td>False</td>\n",
       "    </tr>\n",
       "  </tbody>\n",
       "</table>\n",
       "</div>"
      ],
      "text/plain": [
       "   Unnamed: 0   TX_ID  SENDER_ACCOUNT_ID  RECEIVER_ACCOUNT_ID  TX_TYPE  \\\n",
       "0       40088   40089               5417                 3924        0   \n",
       "1      425743  425744               9772                 5642        0   \n",
       "2      968569  968570               2485                 2426        0   \n",
       "3       89988   89989               4637                 8161        0   \n",
       "4      830187  830188               7607                 9968        0   \n",
       "\n",
       "   TX_AMOUNT  TIMESTAMP  ALERT_ID  IS_FRAUD  \n",
       "0     539.21          6        -1     False  \n",
       "1     176.72         64        -1     False  \n",
       "2     525.05        146        -1     False  \n",
       "3     187.74         14        -1     False  \n",
       "4     198.58        125        -1     False  "
      ]
     },
     "execution_count": 12,
     "metadata": {},
     "output_type": "execute_result"
    }
   ],
   "source": [
    "le = LabelEncoder()\n",
    "df['TX_TYPE']=le.fit_transform(df['TX_TYPE'])\n",
    "df.head()"
   ]
  },
  {
   "cell_type": "markdown",
   "id": "94e5674a",
   "metadata": {},
   "source": [
    "### Dropping columns"
   ]
  },
  {
   "cell_type": "markdown",
   "id": "0ae9e7ff",
   "metadata": {},
   "source": [
    "Dropping those columns which are unique or which have only 1 value because these column do not have any impact on our model"
   ]
  },
  {
   "cell_type": "code",
   "execution_count": 13,
   "id": "44bedfb4",
   "metadata": {},
   "outputs": [],
   "source": [
    "df.drop(['Unnamed: 0','SENDER_ACCOUNT_ID','RECEIVER_ACCOUNT_ID'],axis=1,inplace=True)"
   ]
  },
  {
   "cell_type": "code",
   "execution_count": 14,
   "id": "be0d38cb",
   "metadata": {},
   "outputs": [
    {
     "data": {
      "text/html": [
       "<div>\n",
       "<style scoped>\n",
       "    .dataframe tbody tr th:only-of-type {\n",
       "        vertical-align: middle;\n",
       "    }\n",
       "\n",
       "    .dataframe tbody tr th {\n",
       "        vertical-align: top;\n",
       "    }\n",
       "\n",
       "    .dataframe thead th {\n",
       "        text-align: right;\n",
       "    }\n",
       "</style>\n",
       "<table border=\"1\" class=\"dataframe\">\n",
       "  <thead>\n",
       "    <tr style=\"text-align: right;\">\n",
       "      <th></th>\n",
       "      <th>TX_ID</th>\n",
       "      <th>TX_TYPE</th>\n",
       "      <th>TX_AMOUNT</th>\n",
       "      <th>TIMESTAMP</th>\n",
       "      <th>ALERT_ID</th>\n",
       "      <th>IS_FRAUD</th>\n",
       "    </tr>\n",
       "  </thead>\n",
       "  <tbody>\n",
       "    <tr>\n",
       "      <th>0</th>\n",
       "      <td>40089</td>\n",
       "      <td>0</td>\n",
       "      <td>539.21</td>\n",
       "      <td>6</td>\n",
       "      <td>-1</td>\n",
       "      <td>False</td>\n",
       "    </tr>\n",
       "    <tr>\n",
       "      <th>1</th>\n",
       "      <td>425744</td>\n",
       "      <td>0</td>\n",
       "      <td>176.72</td>\n",
       "      <td>64</td>\n",
       "      <td>-1</td>\n",
       "      <td>False</td>\n",
       "    </tr>\n",
       "    <tr>\n",
       "      <th>2</th>\n",
       "      <td>968570</td>\n",
       "      <td>0</td>\n",
       "      <td>525.05</td>\n",
       "      <td>146</td>\n",
       "      <td>-1</td>\n",
       "      <td>False</td>\n",
       "    </tr>\n",
       "    <tr>\n",
       "      <th>3</th>\n",
       "      <td>89989</td>\n",
       "      <td>0</td>\n",
       "      <td>187.74</td>\n",
       "      <td>14</td>\n",
       "      <td>-1</td>\n",
       "      <td>False</td>\n",
       "    </tr>\n",
       "    <tr>\n",
       "      <th>4</th>\n",
       "      <td>830188</td>\n",
       "      <td>0</td>\n",
       "      <td>198.58</td>\n",
       "      <td>125</td>\n",
       "      <td>-1</td>\n",
       "      <td>False</td>\n",
       "    </tr>\n",
       "  </tbody>\n",
       "</table>\n",
       "</div>"
      ],
      "text/plain": [
       "    TX_ID  TX_TYPE  TX_AMOUNT  TIMESTAMP  ALERT_ID  IS_FRAUD\n",
       "0   40089        0     539.21          6        -1     False\n",
       "1  425744        0     176.72         64        -1     False\n",
       "2  968570        0     525.05        146        -1     False\n",
       "3   89989        0     187.74         14        -1     False\n",
       "4  830188        0     198.58        125        -1     False"
      ]
     },
     "execution_count": 14,
     "metadata": {},
     "output_type": "execute_result"
    }
   ],
   "source": [
    "df.head()"
   ]
  },
  {
   "cell_type": "markdown",
   "id": "098fba4a",
   "metadata": {},
   "source": [
    "### Label Encoding the target column IS_FRAUD"
   ]
  },
  {
   "cell_type": "code",
   "execution_count": 15,
   "id": "57bad3ed",
   "metadata": {},
   "outputs": [
    {
     "data": {
      "text/html": [
       "<div>\n",
       "<style scoped>\n",
       "    .dataframe tbody tr th:only-of-type {\n",
       "        vertical-align: middle;\n",
       "    }\n",
       "\n",
       "    .dataframe tbody tr th {\n",
       "        vertical-align: top;\n",
       "    }\n",
       "\n",
       "    .dataframe thead th {\n",
       "        text-align: right;\n",
       "    }\n",
       "</style>\n",
       "<table border=\"1\" class=\"dataframe\">\n",
       "  <thead>\n",
       "    <tr style=\"text-align: right;\">\n",
       "      <th></th>\n",
       "      <th>TX_ID</th>\n",
       "      <th>TX_TYPE</th>\n",
       "      <th>TX_AMOUNT</th>\n",
       "      <th>TIMESTAMP</th>\n",
       "      <th>ALERT_ID</th>\n",
       "      <th>IS_FRAUD</th>\n",
       "    </tr>\n",
       "  </thead>\n",
       "  <tbody>\n",
       "    <tr>\n",
       "      <th>0</th>\n",
       "      <td>40089</td>\n",
       "      <td>0</td>\n",
       "      <td>539.21</td>\n",
       "      <td>6</td>\n",
       "      <td>-1</td>\n",
       "      <td>0</td>\n",
       "    </tr>\n",
       "    <tr>\n",
       "      <th>1</th>\n",
       "      <td>425744</td>\n",
       "      <td>0</td>\n",
       "      <td>176.72</td>\n",
       "      <td>64</td>\n",
       "      <td>-1</td>\n",
       "      <td>0</td>\n",
       "    </tr>\n",
       "    <tr>\n",
       "      <th>2</th>\n",
       "      <td>968570</td>\n",
       "      <td>0</td>\n",
       "      <td>525.05</td>\n",
       "      <td>146</td>\n",
       "      <td>-1</td>\n",
       "      <td>0</td>\n",
       "    </tr>\n",
       "    <tr>\n",
       "      <th>3</th>\n",
       "      <td>89989</td>\n",
       "      <td>0</td>\n",
       "      <td>187.74</td>\n",
       "      <td>14</td>\n",
       "      <td>-1</td>\n",
       "      <td>0</td>\n",
       "    </tr>\n",
       "    <tr>\n",
       "      <th>4</th>\n",
       "      <td>830188</td>\n",
       "      <td>0</td>\n",
       "      <td>198.58</td>\n",
       "      <td>125</td>\n",
       "      <td>-1</td>\n",
       "      <td>0</td>\n",
       "    </tr>\n",
       "  </tbody>\n",
       "</table>\n",
       "</div>"
      ],
      "text/plain": [
       "    TX_ID  TX_TYPE  TX_AMOUNT  TIMESTAMP  ALERT_ID  IS_FRAUD\n",
       "0   40089        0     539.21          6        -1         0\n",
       "1  425744        0     176.72         64        -1         0\n",
       "2  968570        0     525.05        146        -1         0\n",
       "3   89989        0     187.74         14        -1         0\n",
       "4  830188        0     198.58        125        -1         0"
      ]
     },
     "execution_count": 15,
     "metadata": {},
     "output_type": "execute_result"
    }
   ],
   "source": [
    "le2 = LabelEncoder()\n",
    "df['IS_FRAUD']=le2.fit_transform(df['IS_FRAUD'])\n",
    "df.head()"
   ]
  },
  {
   "cell_type": "markdown",
   "id": "d6f593b3",
   "metadata": {},
   "source": [
    "## Dividing the dataset into Independent and Dependent variable"
   ]
  },
  {
   "cell_type": "code",
   "execution_count": 16,
   "id": "cfdd15b5",
   "metadata": {},
   "outputs": [],
   "source": [
    "X = df.iloc[:,:-1].values\n",
    "y = df.iloc[:,-1].values"
   ]
  },
  {
   "cell_type": "markdown",
   "id": "8d4ddd3e",
   "metadata": {},
   "source": [
    "## Dividing the dataset into Training set and test set"
   ]
  },
  {
   "cell_type": "code",
   "execution_count": 17,
   "id": "ef9525f7",
   "metadata": {},
   "outputs": [],
   "source": [
    "X_train, X_test, y_train, y_test = train_test_split(X, y, test_size=0.3,random_state=0)"
   ]
  },
  {
   "cell_type": "code",
   "execution_count": 18,
   "id": "dfa43a25",
   "metadata": {},
   "outputs": [
    {
     "data": {
      "text/plain": [
       "array([[ 8.211220e+05,  0.000000e+00,  4.058800e+02,  1.240000e+02,\n",
       "        -1.000000e+00],\n",
       "       [ 1.101797e+06,  0.000000e+00,  9.210000e+00,  1.660000e+02,\n",
       "        -1.000000e+00],\n",
       "       [ 8.326460e+05,  0.000000e+00,  5.594400e+02,  1.260000e+02,\n",
       "        -1.000000e+00],\n",
       "       ...,\n",
       "       [ 8.124180e+05,  0.000000e+00,  2.494700e+02,  1.230000e+02,\n",
       "        -1.000000e+00],\n",
       "       [ 7.318930e+05,  0.000000e+00,  3.402700e+02,  1.110000e+02,\n",
       "        -1.000000e+00],\n",
       "       [ 1.045534e+06,  0.000000e+00,  5.456100e+02,  1.580000e+02,\n",
       "        -1.000000e+00]])"
      ]
     },
     "execution_count": 18,
     "metadata": {},
     "output_type": "execute_result"
    }
   ],
   "source": [
    "X_train"
   ]
  },
  {
   "cell_type": "code",
   "execution_count": 19,
   "id": "a3820252",
   "metadata": {},
   "outputs": [],
   "source": [
    "X_train = np.delete(X_train,0,1)\n",
    "ids = X_test[:,0]\n",
    "X_test = np.delete(X_test,0,1)"
   ]
  },
  {
   "cell_type": "code",
   "execution_count": 20,
   "id": "a909348b",
   "metadata": {},
   "outputs": [
    {
     "data": {
      "text/plain": [
       "array([1318754.,   25295.,  327656., ...,   62074.,  169260.,  926371.])"
      ]
     },
     "execution_count": 20,
     "metadata": {},
     "output_type": "execute_result"
    }
   ],
   "source": [
    "ids"
   ]
  },
  {
   "cell_type": "markdown",
   "id": "8f4e1a2f",
   "metadata": {},
   "source": [
    "## Feature Scaling"
   ]
  },
  {
   "cell_type": "code",
   "execution_count": 21,
   "id": "19fda94e",
   "metadata": {},
   "outputs": [],
   "source": [
    "sc = StandardScaler()\n",
    "X_train = sc.fit_transform(X_train)\n",
    "X_test = sc.transform(X_test)"
   ]
  },
  {
   "cell_type": "markdown",
   "id": "8f2092ba",
   "metadata": {},
   "source": [
    "## Training Logistic Regression"
   ]
  },
  {
   "cell_type": "code",
   "execution_count": 22,
   "id": "ee5a38fd",
   "metadata": {},
   "outputs": [
    {
     "name": "stdout",
     "output_type": "stream",
     "text": [
      "[[297342      0]\n",
      " [     5    381]]\n",
      "0.9999832061478934\n"
     ]
    }
   ],
   "source": [
    "# declaring a object of Logistic regression class\n",
    "clf1 = LogisticRegression()\n",
    "# fit() function trains the model\n",
    "# fitting the object with the training data\n",
    "clf1.fit(X_train, y_train)\n",
    "# predict() function predicts results from validation data\n",
    "# predicting result using the trained data\n",
    "y_pred1 = clf1.predict(X_test)\n",
    "# confusion_matrix() gives the true_positives, false positives, true negatives, false negatives\n",
    "# making confusion matrix using predicted and given results in validation data\n",
    "cm1=confusion_matrix(y_test,y_pred1)\n",
    "# printing the confusion matrix\n",
    "print(cm1)\n",
    "# accuracy_score() is used to find the accuracy of the model\n",
    "print(accuracy_score(y_test,y_pred1))"
   ]
  },
  {
   "cell_type": "markdown",
   "id": "a7809bf0",
   "metadata": {},
   "source": [
    "## Training KNN"
   ]
  },
  {
   "cell_type": "code",
   "execution_count": 23,
   "id": "338e7d34",
   "metadata": {},
   "outputs": [
    {
     "name": "stdout",
     "output_type": "stream",
     "text": [
      "[[297342      0]\n",
      " [     0    386]]\n",
      "1.0\n"
     ]
    }
   ],
   "source": [
    "clf2 = KNeighborsClassifier()\n",
    "clf2.fit(X_train, y_train)\n",
    "y_pred2 = clf2.predict(X_test)\n",
    "cm2 = confusion_matrix(y_test,y_pred2)\n",
    "print(cm2)\n",
    "print(accuracy_score(y_test,y_pred2))"
   ]
  },
  {
   "cell_type": "markdown",
   "id": "40548545",
   "metadata": {},
   "source": [
    "## Training Naive Bayes"
   ]
  },
  {
   "cell_type": "code",
   "execution_count": 24,
   "id": "cc0ce191",
   "metadata": {},
   "outputs": [
    {
     "name": "stdout",
     "output_type": "stream",
     "text": [
      "[[297342      0]\n",
      " [     0    386]]\n",
      "1.0\n"
     ]
    }
   ],
   "source": [
    "clf3 = GaussianNB()\n",
    "clf3.fit(X_train, y_train)\n",
    "y_pred3 = clf3.predict(X_test)\n",
    "cm3 = confusion_matrix(y_test,y_pred3)\n",
    "print(cm3)\n",
    "print(accuracy_score(y_test,y_pred3))"
   ]
  },
  {
   "cell_type": "markdown",
   "id": "9fb043f4",
   "metadata": {},
   "source": [
    "## Training SVM"
   ]
  },
  {
   "cell_type": "code",
   "execution_count": 25,
   "id": "f567bf95",
   "metadata": {},
   "outputs": [
    {
     "name": "stdout",
     "output_type": "stream",
     "text": [
      "[[297342      0]\n",
      " [     2    384]]\n",
      "0.9999932824591573\n"
     ]
    }
   ],
   "source": [
    "clf4 = SVC()\n",
    "clf4.fit(X_train,y_train)\n",
    "y_pred4 = clf4.predict(X_test)\n",
    "cm4 = confusion_matrix(y_test,y_pred4)\n",
    "print(cm4)\n",
    "print(accuracy_score(y_test,y_pred4))"
   ]
  },
  {
   "cell_type": "markdown",
   "id": "1c59112a",
   "metadata": {},
   "source": [
    "## Training Decision Tree Classifier"
   ]
  },
  {
   "cell_type": "code",
   "execution_count": 26,
   "id": "b291680d",
   "metadata": {},
   "outputs": [
    {
     "name": "stdout",
     "output_type": "stream",
     "text": [
      "[[297342      0]\n",
      " [     0    386]]\n",
      "1.0\n"
     ]
    }
   ],
   "source": [
    "clf5 = DecisionTreeClassifier(criterion='entropy')\n",
    "clf5.fit(X_train, y_train)\n",
    "y_pred5 = clf5.predict(X_test)\n",
    "cm5 = confusion_matrix(y_test,y_pred5)\n",
    "print(cm5)\n",
    "print(accuracy_score(y_test,y_pred5))"
   ]
  },
  {
   "cell_type": "markdown",
   "id": "7abc46cd",
   "metadata": {},
   "source": [
    "## Training Random Forest Classifier"
   ]
  },
  {
   "cell_type": "code",
   "execution_count": 27,
   "id": "a21839c9",
   "metadata": {},
   "outputs": [
    {
     "name": "stdout",
     "output_type": "stream",
     "text": [
      "[[297342      0]\n",
      " [     0    386]]\n",
      "1.0\n"
     ]
    }
   ],
   "source": [
    "clf6 = RandomForestClassifier(criterion='entropy',n_estimators=50)\n",
    "clf6.fit(X_train, y_train)\n",
    "y_pred6 = clf6.predict(X_test)\n",
    "cm6 = confusion_matrix(y_test,y_pred6)\n",
    "print(cm6)\n",
    "print(accuracy_score(y_test,y_pred6))"
   ]
  },
  {
   "cell_type": "markdown",
   "id": "57a77572",
   "metadata": {},
   "source": [
    "## Showing RandomisedSearchCV although this doesn't need any optimization 😂😂😂"
   ]
  },
  {
   "cell_type": "code",
   "execution_count": 28,
   "id": "22af4272",
   "metadata": {},
   "outputs": [
    {
     "name": "stdout",
     "output_type": "stream",
     "text": [
      "{'n_estimators': [2, 12, 23, 34, 45, 56, 67, 78, 89, 100], 'max_features': ['auto', 'sqrt', 'log2'], 'max_depth': [10, 120, 230, 340, 450, 560, 670, 780, 890, 1000], 'min_samples_split': [2, 5, 7, 10, 12, 14], 'min_samples_leaf': [1, 2, 4, 6, 8], 'criterion': ['entropy', 'gini']}\n"
     ]
    }
   ],
   "source": [
    "param_grid = {\n",
    "    'n_estimators': [int(x) for x in np.linspace(start=2,stop=100,num=10)],\n",
    "    'max_features': ['auto','sqrt','log2'],\n",
    "    'max_depth': [int(x) for x in np.linspace(10,1000,10)],\n",
    "    'min_samples_split': [2,5,7,10,12,14],\n",
    "    'min_samples_leaf': [1,2,4,6,8],\n",
    "    'criterion': ['entropy','gini']\n",
    "}\n",
    "print(param_grid)"
   ]
  },
  {
   "cell_type": "code",
   "execution_count": 29,
   "id": "38598d33",
   "metadata": {},
   "outputs": [
    {
     "name": "stdout",
     "output_type": "stream",
     "text": [
      "Fitting 3 folds for each of 25 candidates, totalling 75 fits\n"
     ]
    },
    {
     "data": {
      "text/plain": [
       "RandomizedSearchCV(cv=3,\n",
       "                   estimator=RandomForestClassifier(criterion='entropy',\n",
       "                                                    n_estimators=50),\n",
       "                   n_iter=25, n_jobs=-1,\n",
       "                   param_distributions={'criterion': ['entropy', 'gini'],\n",
       "                                        'max_depth': [10, 120, 230, 340, 450,\n",
       "                                                      560, 670, 780, 890,\n",
       "                                                      1000],\n",
       "                                        'max_features': ['auto', 'sqrt',\n",
       "                                                         'log2'],\n",
       "                                        'min_samples_leaf': [1, 2, 4, 6, 8],\n",
       "                                        'min_samples_split': [2, 5, 7, 10, 12,\n",
       "                                                              14],\n",
       "                                        'n_estimators': [2, 12, 23, 34, 45, 56,\n",
       "                                                         67, 78, 89, 100]},\n",
       "                   verbose=2)"
      ]
     },
     "execution_count": 29,
     "metadata": {},
     "output_type": "execute_result"
    }
   ],
   "source": [
    "rcv = RandomizedSearchCV(estimator=clf6,param_distributions=param_grid,n_iter=25,cv=3,verbose=2,n_jobs=-1)\n",
    "rcv.fit(X_train,y_train)"
   ]
  },
  {
   "cell_type": "code",
   "execution_count": 30,
   "id": "b9d2202c",
   "metadata": {},
   "outputs": [
    {
     "data": {
      "text/plain": [
       "{'n_estimators': 34,\n",
       " 'min_samples_split': 12,\n",
       " 'min_samples_leaf': 2,\n",
       " 'max_features': 'sqrt',\n",
       " 'max_depth': 450,\n",
       " 'criterion': 'entropy'}"
      ]
     },
     "execution_count": 30,
     "metadata": {},
     "output_type": "execute_result"
    }
   ],
   "source": [
    "rcv.best_params_"
   ]
  },
  {
   "cell_type": "code",
   "execution_count": 31,
   "id": "c5f062e2",
   "metadata": {},
   "outputs": [
    {
     "data": {
      "text/plain": [
       "RandomForestClassifier(criterion='entropy', max_depth=450, max_features='sqrt',\n",
       "                       min_samples_leaf=2, min_samples_split=12,\n",
       "                       n_estimators=34)"
      ]
     },
     "execution_count": 31,
     "metadata": {},
     "output_type": "execute_result"
    }
   ],
   "source": [
    "rcv.best_estimator_"
   ]
  },
  {
   "cell_type": "code",
   "execution_count": 32,
   "id": "6d8b1ca8",
   "metadata": {},
   "outputs": [
    {
     "name": "stdout",
     "output_type": "stream",
     "text": [
      "[[297342      0]\n",
      " [     0    386]]\n",
      "1.0\n"
     ]
    }
   ],
   "source": [
    "clf7 = RandomForestClassifier(criterion='entropy',n_estimators=34,max_depth=450,max_features='sqrt',min_samples_split=12,min_samples_leaf=2)\n",
    "clf7.fit(X_train, y_train)\n",
    "y_pred7 = clf7.predict(X_test)\n",
    "cm7 = confusion_matrix(y_test,y_pred7)\n",
    "print(cm7)\n",
    "print(accuracy_score(y_test,y_pred7))"
   ]
  },
  {
   "cell_type": "markdown",
   "id": "273f7915",
   "metadata": {},
   "source": [
    "## Training XGBoost Classifier"
   ]
  },
  {
   "cell_type": "code",
   "execution_count": 33,
   "id": "7c6de84e",
   "metadata": {},
   "outputs": [
    {
     "name": "stdout",
     "output_type": "stream",
     "text": [
      "[[297342      0]\n",
      " [     0    386]]\n",
      "1.0\n"
     ]
    }
   ],
   "source": [
    "clf8 = XGBClassifier()\n",
    "clf8.fit(X_train, y_train)\n",
    "y_pred8 = clf8.predict(X_test)\n",
    "cm8 = confusion_matrix(y_test,y_pred8)\n",
    "print(cm8)\n",
    "print(accuracy_score(y_test,y_pred8))"
   ]
  },
  {
   "cell_type": "markdown",
   "id": "64f1e245",
   "metadata": {},
   "source": [
    "## Applying KFold cross Validation on XGBoost Classifier"
   ]
  },
  {
   "cell_type": "code",
   "execution_count": 34,
   "id": "58a4f8c6",
   "metadata": {},
   "outputs": [
    {
     "name": "stdout",
     "output_type": "stream",
     "text": [
      "Accuracy: 100.00 %\n",
      "Standard Deviation: 0.00 %\n"
     ]
    }
   ],
   "source": [
    "accuracies = cross_val_score(estimator = clf8, X = X_train, y = y_train, cv = 10)\n",
    "print(\"Accuracy: {:.2f} %\".format(accuracies.mean()*100))\n",
    "print(\"Standard Deviation: {:.2f} %\".format(accuracies.std()*100))"
   ]
  },
  {
   "cell_type": "code",
   "execution_count": 40,
   "id": "a997c477",
   "metadata": {},
   "outputs": [],
   "source": [
    "output = pd.DataFrame({'TX_ID': ids, 'IS_FRAUD': y_pred8})\n",
    "output.head(20)\n",
    "output.to_csv('XploreML_submission.csv', index=False)"
   ]
  },
  {
   "cell_type": "code",
   "execution_count": null,
   "id": "040a64c4",
   "metadata": {},
   "outputs": [],
   "source": []
  }
 ],
 "metadata": {
  "kernelspec": {
   "display_name": "Python 3 (ipykernel)",
   "language": "python",
   "name": "python3"
  },
  "language_info": {
   "codemirror_mode": {
    "name": "ipython",
    "version": 3
   },
   "file_extension": ".py",
   "mimetype": "text/x-python",
   "name": "python",
   "nbconvert_exporter": "python",
   "pygments_lexer": "ipython3",
   "version": "3.9.7"
  }
 },
 "nbformat": 4,
 "nbformat_minor": 5
}
