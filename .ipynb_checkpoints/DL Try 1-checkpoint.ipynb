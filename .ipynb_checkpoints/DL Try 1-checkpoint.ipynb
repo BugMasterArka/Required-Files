{
 "cells": [
  {
   "cell_type": "code",
   "execution_count": 13,
   "id": "9d71aa2e",
   "metadata": {},
   "outputs": [],
   "source": [
    "import numpy as np\n",
    "from keras.preprocessing import image\n",
    "import tensorflow as tf\n",
    "from keras.preprocessing.image import ImageDataGenerator"
   ]
  },
  {
   "cell_type": "code",
   "execution_count": 2,
   "id": "9ed734cc",
   "metadata": {},
   "outputs": [
    {
     "name": "stdout",
     "output_type": "stream",
     "text": [
      "Found 11176 images belonging to 5 classes.\n"
     ]
    }
   ],
   "source": [
    "train_gen = ImageDataGenerator(rescale = 1./255,\n",
    "                              shear_range = 0.2,\n",
    "                              zoom_range = 0.2,\n",
    "                              horizontal_flip = True)\n",
    "training_set = train_gen.flow_from_directory('D:/diabetic retinopathy/archive/Dataset/training set',\n",
    "                                            target_size = (64, 64),\n",
    "                                            batch_size = 30,\n",
    "                                            class_mode = 'categorical')"
   ]
  },
  {
   "cell_type": "code",
   "execution_count": 3,
   "id": "276e8881",
   "metadata": {},
   "outputs": [
    {
     "name": "stdout",
     "output_type": "stream",
     "text": [
      "Found 2794 images belonging to 5 classes.\n"
     ]
    }
   ],
   "source": [
    "test_gen = ImageDataGenerator(rescale = 1./255)\n",
    "test_set = test_gen.flow_from_directory('D:/diabetic retinopathy/archive/Dataset/test set',\n",
    "                                       target_size = (64, 64),\n",
    "                                       batch_size = 30,\n",
    "                                       class_mode = 'categorical')"
   ]
  },
  {
   "cell_type": "code",
   "execution_count": 4,
   "id": "da78db54",
   "metadata": {},
   "outputs": [],
   "source": [
    "cnn = tf.keras.models.Sequential()"
   ]
  },
  {
   "cell_type": "code",
   "execution_count": 5,
   "id": "a5d2bb86",
   "metadata": {},
   "outputs": [],
   "source": [
    "cnn.add(tf.keras.layers.Conv2D(filters=32,kernel_size=3,activation='relu',input_shape=[64, 64, 3]))"
   ]
  },
  {
   "cell_type": "code",
   "execution_count": 6,
   "id": "f048ed06",
   "metadata": {},
   "outputs": [],
   "source": [
    "cnn.add(tf.keras.layers.MaxPool2D(pool_size=2,strides=2))"
   ]
  },
  {
   "cell_type": "code",
   "execution_count": 7,
   "id": "85d575d9",
   "metadata": {},
   "outputs": [],
   "source": [
    "cnn.add(tf.keras.layers.Conv2D(filters=32,kernel_size=3,activation='relu'))"
   ]
  },
  {
   "cell_type": "code",
   "execution_count": 8,
   "id": "dfaf9ecd",
   "metadata": {},
   "outputs": [],
   "source": [
    "cnn.add(tf.keras.layers.MaxPool2D(pool_size=2,strides=2))"
   ]
  },
  {
   "cell_type": "code",
   "execution_count": 9,
   "id": "16082e84",
   "metadata": {},
   "outputs": [],
   "source": [
    "cnn.add(tf.keras.layers.Flatten())"
   ]
  },
  {
   "cell_type": "code",
   "execution_count": 10,
   "id": "34a02655",
   "metadata": {},
   "outputs": [],
   "source": [
    "cnn.add(tf.keras.layers.Dense(units=256,activation='relu'))"
   ]
  },
  {
   "cell_type": "code",
   "execution_count": 11,
   "id": "634065c4",
   "metadata": {},
   "outputs": [],
   "source": [
    "cnn.add(tf.keras.layers.Dense(units=5,activation='softmax'))"
   ]
  },
  {
   "cell_type": "code",
   "execution_count": 12,
   "id": "3d1fea70",
   "metadata": {},
   "outputs": [],
   "source": [
    "cnn.compile(optimizer='adam',loss='categorical_crossentropy',metrics=['accuracy'])"
   ]
  },
  {
   "cell_type": "code",
   "execution_count": 14,
   "id": "97567ebb",
   "metadata": {},
   "outputs": [
    {
     "name": "stdout",
     "output_type": "stream",
     "text": [
      "Epoch 1/20\n",
      "373/373 [==============================] - 53s 131ms/step - loss: 1.3629 - accuracy: 0.4245 - val_loss: 1.3505 - val_accuracy: 0.4295\n",
      "Epoch 2/20\n",
      "373/373 [==============================] - 40s 107ms/step - loss: 1.3480 - accuracy: 0.4290 - val_loss: 1.3465 - val_accuracy: 0.4309\n",
      "Epoch 3/20\n",
      "373/373 [==============================] - 38s 102ms/step - loss: 1.3412 - accuracy: 0.4299 - val_loss: 1.3374 - val_accuracy: 0.4313\n",
      "Epoch 4/20\n",
      "373/373 [==============================] - 41s 109ms/step - loss: 1.3385 - accuracy: 0.4290 - val_loss: 1.3313 - val_accuracy: 0.4366\n",
      "Epoch 5/20\n",
      "373/373 [==============================] - 40s 109ms/step - loss: 1.3324 - accuracy: 0.4307 - val_loss: 1.3707 - val_accuracy: 0.4302\n",
      "Epoch 6/20\n",
      "373/373 [==============================] - 40s 106ms/step - loss: 1.3342 - accuracy: 0.4315 - val_loss: 1.3291 - val_accuracy: 0.4431\n",
      "Epoch 7/20\n",
      "373/373 [==============================] - 44s 117ms/step - loss: 1.3341 - accuracy: 0.4275 - val_loss: 1.3431 - val_accuracy: 0.4388\n",
      "Epoch 8/20\n",
      "373/373 [==============================] - 44s 117ms/step - loss: 1.3263 - accuracy: 0.4346 - val_loss: 1.4027 - val_accuracy: 0.4345\n",
      "Epoch 9/20\n",
      "373/373 [==============================] - 39s 104ms/step - loss: 1.3221 - accuracy: 0.4359 - val_loss: 1.3100 - val_accuracy: 0.4520\n",
      "Epoch 10/20\n",
      "373/373 [==============================] - 38s 101ms/step - loss: 1.3210 - accuracy: 0.4367 - val_loss: 1.3372 - val_accuracy: 0.4377\n",
      "Epoch 11/20\n",
      "373/373 [==============================] - 40s 106ms/step - loss: 1.3165 - accuracy: 0.4412 - val_loss: 1.3343 - val_accuracy: 0.4442\n",
      "Epoch 12/20\n",
      "373/373 [==============================] - 38s 103ms/step - loss: 1.3129 - accuracy: 0.4409 - val_loss: 1.3295 - val_accuracy: 0.4431\n",
      "Epoch 13/20\n",
      "373/373 [==============================] - 38s 101ms/step - loss: 1.3114 - accuracy: 0.4409 - val_loss: 1.3162 - val_accuracy: 0.4452\n",
      "Epoch 14/20\n",
      "373/373 [==============================] - 40s 107ms/step - loss: 1.3066 - accuracy: 0.4440 - val_loss: 1.3464 - val_accuracy: 0.4513\n",
      "Epoch 15/20\n",
      "373/373 [==============================] - 47s 127ms/step - loss: 1.3087 - accuracy: 0.4448 - val_loss: 1.3310 - val_accuracy: 0.4467\n",
      "Epoch 16/20\n",
      "373/373 [==============================] - 41s 111ms/step - loss: 1.3011 - accuracy: 0.4452 - val_loss: 1.3543 - val_accuracy: 0.4406\n",
      "Epoch 17/20\n",
      "373/373 [==============================] - 40s 107ms/step - loss: 1.3009 - accuracy: 0.4443 - val_loss: 1.3336 - val_accuracy: 0.4510\n",
      "Epoch 18/20\n",
      "373/373 [==============================] - 41s 109ms/step - loss: 1.2980 - accuracy: 0.4481 - val_loss: 1.3399 - val_accuracy: 0.4488\n",
      "Epoch 19/20\n",
      "373/373 [==============================] - 41s 109ms/step - loss: 1.2930 - accuracy: 0.4473 - val_loss: 1.3268 - val_accuracy: 0.4456\n",
      "Epoch 20/20\n",
      "373/373 [==============================] - 42s 112ms/step - loss: 1.2901 - accuracy: 0.4513 - val_loss: 1.3118 - val_accuracy: 0.4520\n"
     ]
    },
    {
     "data": {
      "text/plain": [
       "<keras.callbacks.History at 0x1fe07674af0>"
      ]
     },
     "execution_count": 14,
     "metadata": {},
     "output_type": "execute_result"
    }
   ],
   "source": [
    "cnn.fit(x=training_set,validation_data=test_set,epochs=20)"
   ]
  },
  {
   "cell_type": "code",
   "execution_count": null,
   "id": "0d029233",
   "metadata": {},
   "outputs": [],
   "source": [
    "test_image = image.load_img('D:/diabetic retinopathy/archive/Dataset/test set/Mild DR/Mild DR_5.jpg',target_size = (64, 64))\n",
    "test_image = image.img_to_array(test_image)\n",
    "test_image = np.expand_dims(test_image,axis=0)\n",
    "result = cnn.predict(test_image/255.0)\n",
    "training_set.class_indices\n",
    "if result[0][0] > 0.5:\n",
    "    prediction = 'dog'\n",
    "else:\n",
    "    prediction = 'cat'"
   ]
  }
 ],
 "metadata": {
  "kernelspec": {
   "display_name": "Python 3 (ipykernel)",
   "language": "python",
   "name": "python3"
  },
  "language_info": {
   "codemirror_mode": {
    "name": "ipython",
    "version": 3
   },
   "file_extension": ".py",
   "mimetype": "text/x-python",
   "name": "python",
   "nbconvert_exporter": "python",
   "pygments_lexer": "ipython3",
   "version": "3.9.7"
  }
 },
 "nbformat": 4,
 "nbformat_minor": 5
}
