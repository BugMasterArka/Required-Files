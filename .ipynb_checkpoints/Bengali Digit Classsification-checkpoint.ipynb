{
 "cells": [
  {
   "cell_type": "markdown",
   "id": "555e55e1",
   "metadata": {},
   "source": [
    "## Importing the Libraries"
   ]
  },
  {
   "cell_type": "code",
   "execution_count": 1,
   "id": "906dcdb7",
   "metadata": {},
   "outputs": [],
   "source": [
    "import numpy as np\n",
    "from keras.preprocessing import image\n",
    "import tensorflow as tf\n",
    "from keras.preprocessing.image import ImageDataGenerator"
   ]
  },
  {
   "cell_type": "markdown",
   "id": "54af79d6",
   "metadata": {},
   "source": [
    "## Data Preprocessing"
   ]
  },
  {
   "cell_type": "markdown",
   "id": "be63b4ea",
   "metadata": {},
   "source": [
    "### Training Data"
   ]
  },
  {
   "cell_type": "code",
   "execution_count": 2,
   "id": "3a457031",
   "metadata": {
    "scrolled": true
   },
   "outputs": [
    {
     "name": "stdout",
     "output_type": "stream",
     "text": [
      "Found 12520 images belonging to 10 classes.\n"
     ]
    }
   ],
   "source": [
    "train_gen = ImageDataGenerator(rescale = 1./255,\n",
    "                              shear_range = 0.3,\n",
    "                              zoom_range = 0.2,\n",
    "                              horizontal_flip = True)\n",
    "training_set = train_gen.flow_from_directory('D:/bengali digit classification/bengali_digits/train',\n",
    "                                            target_size = (64, 64),\n",
    "                                            batch_size = 30,\n",
    "                                            class_mode = 'categorical')"
   ]
  },
  {
   "cell_type": "markdown",
   "id": "7bff9ac2",
   "metadata": {},
   "source": [
    "### Testing Data"
   ]
  },
  {
   "cell_type": "code",
   "execution_count": 3,
   "id": "771ded42",
   "metadata": {},
   "outputs": [
    {
     "name": "stdout",
     "output_type": "stream",
     "text": [
      "Found 3100 images belonging to 10 classes.\n"
     ]
    }
   ],
   "source": [
    "test_gen = ImageDataGenerator(rescale = 1./255)\n",
    "test_set = test_gen.flow_from_directory('D:/bengali digit classification/bengali_digits/test',\n",
    "                                       target_size = (64, 64),\n",
    "                                       batch_size = 30,\n",
    "                                       class_mode = 'categorical')"
   ]
  },
  {
   "cell_type": "markdown",
   "id": "ab8b575f",
   "metadata": {},
   "source": [
    "## Building the Convolutional Neural Network"
   ]
  },
  {
   "cell_type": "markdown",
   "id": "3650a21b",
   "metadata": {},
   "source": [
    "### Initializing the CNN"
   ]
  },
  {
   "cell_type": "code",
   "execution_count": 4,
   "id": "954903a0",
   "metadata": {},
   "outputs": [],
   "source": [
    "cnn = tf.keras.models.Sequential()"
   ]
  },
  {
   "cell_type": "markdown",
   "id": "69d49943",
   "metadata": {},
   "source": [
    "### Adding The first Convolution Layer"
   ]
  },
  {
   "cell_type": "code",
   "execution_count": 5,
   "id": "48c863cb",
   "metadata": {},
   "outputs": [],
   "source": [
    "cnn.add(tf.keras.layers.Conv2D(filters=32,kernel_size=3,activation='relu',input_shape=[64, 64, 3]))"
   ]
  },
  {
   "cell_type": "markdown",
   "id": "d3d59677",
   "metadata": {},
   "source": [
    "### Adding the first Max Pooling Layer"
   ]
  },
  {
   "cell_type": "code",
   "execution_count": 6,
   "id": "a230adfc",
   "metadata": {},
   "outputs": [],
   "source": [
    "cnn.add(tf.keras.layers.MaxPool2D(pool_size=2,strides=2))"
   ]
  },
  {
   "cell_type": "markdown",
   "id": "eca432f1",
   "metadata": {},
   "source": [
    "### Adding the second Convolution Layer"
   ]
  },
  {
   "cell_type": "code",
   "execution_count": 7,
   "id": "0e9f8858",
   "metadata": {},
   "outputs": [],
   "source": [
    "cnn.add(tf.keras.layers.Conv2D(filters=32,kernel_size=3,activation='relu'))"
   ]
  },
  {
   "cell_type": "markdown",
   "id": "bdadc4b7",
   "metadata": {},
   "source": [
    "### Adding the second Max Pooling Layer"
   ]
  },
  {
   "cell_type": "code",
   "execution_count": 8,
   "id": "76f1d585",
   "metadata": {},
   "outputs": [],
   "source": [
    "cnn.add(tf.keras.layers.MaxPool2D(pool_size=2,strides=2))"
   ]
  },
  {
   "cell_type": "markdown",
   "id": "31c6122b",
   "metadata": {},
   "source": [
    "### Adding the Flattening Layer"
   ]
  },
  {
   "cell_type": "code",
   "execution_count": 9,
   "id": "23e8aab0",
   "metadata": {},
   "outputs": [],
   "source": [
    "cnn.add(tf.keras.layers.Flatten())"
   ]
  },
  {
   "cell_type": "markdown",
   "id": "450fc80d",
   "metadata": {},
   "source": [
    "### Adding the First Fully Connected Layer"
   ]
  },
  {
   "cell_type": "code",
   "execution_count": 10,
   "id": "518a1677",
   "metadata": {},
   "outputs": [],
   "source": [
    "cnn.add(tf.keras.layers.Dense(units=64,activation='relu'))"
   ]
  },
  {
   "cell_type": "markdown",
   "id": "4f77a4f9",
   "metadata": {},
   "source": [
    "### Adding a Dropout Layer"
   ]
  },
  {
   "cell_type": "code",
   "execution_count": 11,
   "id": "7e7fddb7",
   "metadata": {},
   "outputs": [],
   "source": [
    "cnn.add(tf.keras.layers.Dropout(0.2))"
   ]
  },
  {
   "cell_type": "markdown",
   "id": "56fcaa5c",
   "metadata": {},
   "source": [
    "### Adding the Second Fully Connected Layer"
   ]
  },
  {
   "cell_type": "code",
   "execution_count": 12,
   "id": "09fa1f50",
   "metadata": {},
   "outputs": [],
   "source": [
    "cnn.add(tf.keras.layers.Dense(units=64,activation='relu'))"
   ]
  },
  {
   "cell_type": "markdown",
   "id": "2c338cbb",
   "metadata": {},
   "source": [
    "### Adding the Output Layer"
   ]
  },
  {
   "cell_type": "code",
   "execution_count": 13,
   "id": "7294e4d0",
   "metadata": {},
   "outputs": [],
   "source": [
    "cnn.add(tf.keras.layers.Dense(units=10,activation='softmax'))"
   ]
  },
  {
   "cell_type": "markdown",
   "id": "07ce416b",
   "metadata": {},
   "source": [
    "## Training the Model"
   ]
  },
  {
   "cell_type": "markdown",
   "id": "e14ad5fa",
   "metadata": {},
   "source": [
    "### Compiling the CNN"
   ]
  },
  {
   "cell_type": "code",
   "execution_count": 14,
   "id": "08a36e82",
   "metadata": {},
   "outputs": [],
   "source": [
    "cnn.compile(optimizer='adam',loss='categorical_crossentropy',metrics=['accuracy'])"
   ]
  },
  {
   "cell_type": "markdown",
   "id": "b163c015",
   "metadata": {},
   "source": [
    "### Fitting the Model"
   ]
  },
  {
   "cell_type": "code",
   "execution_count": 15,
   "id": "5862236a",
   "metadata": {},
   "outputs": [
    {
     "name": "stdout",
     "output_type": "stream",
     "text": [
      "Epoch 1/15\n",
      "418/418 [==============================] - 99s 234ms/step - loss: 0.9420 - accuracy: 0.6796 - val_loss: 0.4073 - val_accuracy: 0.8755\n",
      "Epoch 2/15\n",
      "418/418 [==============================] - 91s 218ms/step - loss: 0.4976 - accuracy: 0.8377 - val_loss: 0.3421 - val_accuracy: 0.8871\n",
      "Epoch 3/15\n",
      "418/418 [==============================] - 88s 211ms/step - loss: 0.4029 - accuracy: 0.8675 - val_loss: 0.2791 - val_accuracy: 0.9119\n",
      "Epoch 4/15\n",
      "418/418 [==============================] - 85s 204ms/step - loss: 0.3577 - accuracy: 0.8806 - val_loss: 0.2413 - val_accuracy: 0.9239\n",
      "Epoch 5/15\n",
      "418/418 [==============================] - 96s 230ms/step - loss: 0.3078 - accuracy: 0.8988 - val_loss: 0.2242 - val_accuracy: 0.9290\n",
      "Epoch 6/15\n",
      "418/418 [==============================] - 87s 207ms/step - loss: 0.2868 - accuracy: 0.9039 - val_loss: 0.2156 - val_accuracy: 0.9339\n",
      "Epoch 7/15\n",
      "418/418 [==============================] - 85s 204ms/step - loss: 0.2634 - accuracy: 0.9135 - val_loss: 0.2051 - val_accuracy: 0.9329\n",
      "Epoch 8/15\n",
      "418/418 [==============================] - 93s 222ms/step - loss: 0.2380 - accuracy: 0.9208 - val_loss: 0.1992 - val_accuracy: 0.9329\n",
      "Epoch 9/15\n",
      "418/418 [==============================] - 89s 213ms/step - loss: 0.2309 - accuracy: 0.9223 - val_loss: 0.1853 - val_accuracy: 0.9468\n",
      "Epoch 10/15\n",
      "418/418 [==============================] - 85s 204ms/step - loss: 0.2192 - accuracy: 0.9264 - val_loss: 0.2078 - val_accuracy: 0.9313\n",
      "Epoch 11/15\n",
      "418/418 [==============================] - 92s 220ms/step - loss: 0.2013 - accuracy: 0.9324 - val_loss: 0.1790 - val_accuracy: 0.9461\n",
      "Epoch 12/15\n",
      "418/418 [==============================] - 94s 224ms/step - loss: 0.1934 - accuracy: 0.9347 - val_loss: 0.1737 - val_accuracy: 0.9510\n",
      "Epoch 13/15\n",
      "418/418 [==============================] - 87s 207ms/step - loss: 0.1749 - accuracy: 0.9419 - val_loss: 0.1991 - val_accuracy: 0.9381\n",
      "Epoch 14/15\n",
      "418/418 [==============================] - 87s 207ms/step - loss: 0.1733 - accuracy: 0.9442 - val_loss: 0.1917 - val_accuracy: 0.9416\n",
      "Epoch 15/15\n",
      "418/418 [==============================] - 97s 232ms/step - loss: 0.1717 - accuracy: 0.9423 - val_loss: 0.1872 - val_accuracy: 0.9458\n"
     ]
    },
    {
     "data": {
      "text/plain": [
       "<keras.callbacks.History at 0x23dd70baf10>"
      ]
     },
     "execution_count": 15,
     "metadata": {},
     "output_type": "execute_result"
    }
   ],
   "source": [
    "cnn.fit(x=training_set,validation_data=test_set,epochs=15)"
   ]
  },
  {
   "cell_type": "markdown",
   "id": "6a7bdab6",
   "metadata": {},
   "source": [
    "### Indexing the Output Variables"
   ]
  },
  {
   "cell_type": "code",
   "execution_count": 16,
   "id": "15ac2ef0",
   "metadata": {},
   "outputs": [],
   "source": [
    "index = ['0','1','2','3','4','5','6','7','8','9']"
   ]
  },
  {
   "cell_type": "markdown",
   "id": "7b9a83a2",
   "metadata": {},
   "source": [
    "## Making Predictions"
   ]
  },
  {
   "cell_type": "markdown",
   "id": "f191205c",
   "metadata": {},
   "source": [
    "### Prediction 1 (Number 7)"
   ]
  },
  {
   "cell_type": "code",
   "execution_count": 17,
   "id": "c0e43c16",
   "metadata": {},
   "outputs": [
    {
     "data": {
      "image/png": "[encoded data removed]",
      "text/plain": [
       "<PIL.Image.Image image mode=RGB size=64x64 at 0x23DD92B2F10>"
      ]
     },
     "execution_count": 17,
     "metadata": {},
     "output_type": "execute_result"
    }
   ],
   "source": [
    "test_image1 = image.load_img('D:/bengali digit classification/bengali_digits/validate/user_input_1.png',target_size = (64, 64))\n",
    "test_image1"
   ]
  },
  {
   "cell_type": "code",
   "execution_count": 18,
   "id": "14cffc8c",
   "metadata": {},
   "outputs": [
    {
     "name": "stdout",
     "output_type": "stream",
     "text": [
      "7\n"
     ]
    }
   ],
   "source": [
    "test_image1 = image.img_to_array(test_image1)\n",
    "test_image1 = np.expand_dims(test_image1,axis=0)\n",
    "result1 = np.argmax(cnn.predict(test_image1/255.0),axis=1)\n",
    "print(index[result1[0]])"
   ]
  },
  {
   "cell_type": "markdown",
   "id": "7be4d2c9",
   "metadata": {},
   "source": [
    "### Prediction 2 (Number 2)"
   ]
  },
  {
   "cell_type": "code",
   "execution_count": 19,
   "id": "0be322b4",
   "metadata": {},
   "outputs": [
    {
     "data": {
      "image/png": "[encoded data removed]",
      "text/plain": [
       "<PIL.Image.Image image mode=RGB size=64x64 at 0x23DCC21AAF0>"
      ]
     },
     "execution_count": 19,
     "metadata": {},
     "output_type": "execute_result"
    }
   ],
   "source": [
    "test_image2 = image.load_img('D:/bengali digit classification/bengali_digits/validate/user_input_2.png',target_size = (64, 64))\n",
    "test_image2"
   ]
  },
  {
   "cell_type": "code",
   "execution_count": 20,
   "id": "2620cbba",
   "metadata": {},
   "outputs": [
    {
     "name": "stdout",
     "output_type": "stream",
     "text": [
      "4\n"
     ]
    }
   ],
   "source": [
    "test_image2 = image.img_to_array(test_image2)\n",
    "test_image2 = np.expand_dims(test_image2,axis=0)\n",
    "result2 = np.argmax(cnn.predict(test_image2/255.0),axis=1)\n",
    "print(index[result2[0]])"
   ]
  },
  {
   "cell_type": "markdown",
   "id": "2b3cc274",
   "metadata": {},
   "source": [
    "### Prediction 3 (Number 1)"
   ]
  },
  {
   "cell_type": "code",
   "execution_count": 21,
   "id": "bf46708a",
   "metadata": {},
   "outputs": [
    {
     "data": {
      "image/png": "[encoded data removed]",
      "text/plain": [
       "<PIL.Image.Image image mode=RGB size=64x64 at 0x23DD92E6820>"
      ]
     },
     "execution_count": 21,
     "metadata": {},
     "output_type": "execute_result"
    }
   ],
   "source": [
    "test_image3 = image.load_img('D:/bengali digit classification/bengali_digits/validate/user_input_3.png',target_size = (64, 64))\n",
    "test_image3"
   ]
  },
  {
   "cell_type": "code",
   "execution_count": 22,
   "id": "42aed45b",
   "metadata": {},
   "outputs": [
    {
     "name": "stdout",
     "output_type": "stream",
     "text": [
      "8\n"
     ]
    }
   ],
   "source": [
    "test_image3 = image.img_to_array(test_image3)\n",
    "test_image3 = np.expand_dims(test_image3,axis=0)\n",
    "result3 = np.argmax(cnn.predict(test_image3/255.0),axis=1)\n",
    "print(index[result3[0]])"
   ]
  },
  {
   "cell_type": "markdown",
   "id": "906ca3f3",
   "metadata": {},
   "source": [
    "### Prediction 4 (Number 8)"
   ]
  },
  {
   "cell_type": "code",
   "execution_count": 23,
   "id": "4c78745e",
   "metadata": {},
   "outputs": [
    {
     "data": {
      "image/png": "[encoded data removed]",
      "text/plain": [
       "<PIL.Image.Image image mode=RGB size=64x64 at 0x23DD92DE9A0>"
      ]
     },
     "execution_count": 23,
     "metadata": {},
     "output_type": "execute_result"
    }
   ],
   "source": [
    "test_image4 = image.load_img('D:/bengali digit classification/bengali_digits/validate/user_input_4.png',target_size = (64, 64))\n",
    "test_image4"
   ]
  },
  {
   "cell_type": "code",
   "execution_count": 24,
   "id": "291d7e0e",
   "metadata": {},
   "outputs": [
    {
     "name": "stdout",
     "output_type": "stream",
     "text": [
      "8\n"
     ]
    }
   ],
   "source": [
    "test_image4 = image.img_to_array(test_image4)\n",
    "test_image4 = np.expand_dims(test_image4,axis=0)\n",
    "result4 = np.argmax(cnn.predict(test_image4/255.0),axis=1)\n",
    "print(index[result4[0]])"
   ]
  },
  {
   "cell_type": "markdown",
   "id": "4fef0763",
   "metadata": {},
   "source": [
    "### Prediction 5 (Number 5)"
   ]
  },
  {
   "cell_type": "code",
   "execution_count": 25,
   "id": "e81439e6",
   "metadata": {},
   "outputs": [
    {
     "data": {
      "image/png": "[encoded data removed]",
      "text/plain": [
       "<PIL.Image.Image image mode=RGB size=64x64 at 0x23DD703CA30>"
      ]
     },
     "execution_count": 25,
     "metadata": {},
     "output_type": "execute_result"
    }
   ],
   "source": [
    "test_image5 = image.load_img('D:/bengali digit classification/bengali_digits/validate/user_input_5.png',target_size = (64, 64))\n",
    "test_image5"
   ]
  },
  {
   "cell_type": "code",
   "execution_count": 26,
   "id": "9400fe55",
   "metadata": {},
   "outputs": [
    {
     "name": "stdout",
     "output_type": "stream",
     "text": [
      "5\n"
     ]
    }
   ],
   "source": [
    "test_image5 = image.img_to_array(test_image5)\n",
    "test_image5 = np.expand_dims(test_image5,axis=0)\n",
    "result5 = np.argmax(cnn.predict(test_image5/255.0),axis=1)\n",
    "print(index[result5[0]])"
   ]
  },
  {
   "cell_type": "markdown",
   "id": "df5d4507",
   "metadata": {},
   "source": [
    "### Prediction 6 (Number 2)"
   ]
  },
  {
   "cell_type": "code",
   "execution_count": 27,
   "id": "0ce91797",
   "metadata": {},
   "outputs": [
    {
     "data": {
      "image/png": "[encoded data removed]",
      "text/plain": [
       "<PIL.Image.Image image mode=RGB size=64x64 at 0x23DD9319F10>"
      ]
     },
     "execution_count": 27,
     "metadata": {},
     "output_type": "execute_result"
    }
   ],
   "source": [
    "test_image6 = image.load_img('D:/bengali digit classification/bengali_digits/validate/user_input_6.png',target_size = (64, 64))\n",
    "test_image6"
   ]
  },
  {
   "cell_type": "code",
   "execution_count": 28,
   "id": "185a1270",
   "metadata": {},
   "outputs": [
    {
     "name": "stdout",
     "output_type": "stream",
     "text": [
      "2\n"
     ]
    }
   ],
   "source": [
    "test_image6 = image.img_to_array(test_image6)\n",
    "test_image6 = np.expand_dims(test_image6,axis=0)\n",
    "result6 = np.argmax(cnn.predict(test_image6/255.0),axis=1)\n",
    "print(index[result6[0]])"
   ]
  },
  {
   "cell_type": "markdown",
   "id": "4d6162ee",
   "metadata": {},
   "source": [
    "### Prediction 7 (Number 4 [P.S. - This is actually an english 8])"
   ]
  },
  {
   "cell_type": "code",
   "execution_count": 29,
   "id": "04dc39bb",
   "metadata": {},
   "outputs": [
    {
     "data": {
      "image/png": "[encoded data removed]",
      "text/plain": [
       "<PIL.Image.Image image mode=RGB size=64x64 at 0x23DD9302FA0>"
      ]
     },
     "execution_count": 29,
     "metadata": {},
     "output_type": "execute_result"
    }
   ],
   "source": [
    "test_image7 = image.load_img('D:/bengali digit classification/bengali_digits/validate/user_input_7.png',target_size = (64, 64))\n",
    "test_image7"
   ]
  },
  {
   "cell_type": "code",
   "execution_count": 30,
   "id": "0b766359",
   "metadata": {},
   "outputs": [
    {
     "name": "stdout",
     "output_type": "stream",
     "text": [
      "4\n"
     ]
    }
   ],
   "source": [
    "test_image7 = image.img_to_array(test_image7)\n",
    "test_image7 = np.expand_dims(test_image7,axis=0)\n",
    "result7 = np.argmax(cnn.predict(test_image7/255.0),axis=1)\n",
    "print(index[result7[0]])"
   ]
  },
  {
   "cell_type": "markdown",
   "id": "111109d1",
   "metadata": {},
   "source": [
    "## Making a Drawing Pad for User Input"
   ]
  },
  {
   "cell_type": "code",
   "execution_count": 31,
   "id": "c327bfe3",
   "metadata": {},
   "outputs": [],
   "source": [
    "from PIL import ImageTk, Image, ImageDraw\n",
    "import PIL\n",
    "from tkinter import *\n",
    "\n",
    "width = 500  # canvas width\n",
    "height = 500 # canvas height\n",
    "center = height//2\n",
    "white = (255, 255, 255) # canvas back\n",
    "\n",
    "def save():\n",
    "    # save image to hard drive\n",
    "    filename = \"D:/bengali digit classification/bengali_digits/validate/user_input_drawn.jpg\"\n",
    "    output_image.save(filename)\n",
    "\n",
    "def paint(event):\n",
    "    x1, y1 = (event.x - 1), (event.y - 1)\n",
    "    x2, y2 = (event.x + 1), (event.y + 1)\n",
    "    canvas.create_oval(x1, y1, x2, y2, fill=\"black\",width=20)\n",
    "    draw.line([x1, y1, x2, y2],fill=\"black\",width=20)\n",
    "\n",
    "master = Tk()\n",
    "\n",
    "# create a tkinter canvas to draw on\n",
    "canvas = Canvas(master, width=width, height=height, bg='white')\n",
    "canvas.pack()\n",
    "\n",
    "# create an empty PIL image and draw object to draw on\n",
    "output_image = PIL.Image.new(\"RGB\", (width, height), white)\n",
    "draw = ImageDraw.Draw(output_image)\n",
    "canvas.pack(expand=YES, fill=BOTH)\n",
    "canvas.bind(\"<B1-Motion>\", paint)\n",
    "\n",
    "# add a button to save the image\n",
    "button=Button(text=\"Save\",command=save)\n",
    "button.pack()\n",
    "\n",
    "master.mainloop()"
   ]
  },
  {
   "cell_type": "markdown",
   "id": "03d09542",
   "metadata": {},
   "source": [
    "### Predicting User Input (Number 6)"
   ]
  },
  {
   "cell_type": "code",
   "execution_count": 32,
   "id": "f308513a",
   "metadata": {},
   "outputs": [
    {
     "data": {
      "image/png": "[encoded data removed]",
      "text/plain": [
       "<PIL.Image.Image image mode=RGB size=64x64 at 0x23DD6A61280>"
      ]
     },
     "execution_count": 32,
     "metadata": {},
     "output_type": "execute_result"
    }
   ],
   "source": [
    "test_image_drawn = image.load_img('D:/bengali digit classification/bengali_digits/validate/user_input_drawn.jpg',target_size = (64, 64))\n",
    "test_image_drawn"
   ]
  },
  {
   "cell_type": "code",
   "execution_count": 33,
   "id": "a5fb7b76",
   "metadata": {},
   "outputs": [
    {
     "name": "stdout",
     "output_type": "stream",
     "text": [
      "6\n"
     ]
    }
   ],
   "source": [
    "test_image_drawn = image.img_to_array(test_image_drawn)\n",
    "test_image_drawn = np.expand_dims(test_image_drawn,axis=0)\n",
    "result_drawn = np.argmax(cnn.predict(test_image_drawn/255.0),axis=1)\n",
    "print(index[result_drawn[0]])"
   ]
  },
  {
   "cell_type": "code",
   "execution_count": null,
   "id": "42902fbf",
   "metadata": {},
   "outputs": [],
   "source": []
  },
  {
   "cell_type": "code",
   "execution_count": null,
   "id": "8c818a5d",
   "metadata": {},
   "outputs": [],
   "source": []
  }
 ],
 "metadata": {
  "kernelspec": {
   "display_name": "Python 3 (ipykernel)",
   "language": "python",
   "name": "python3"
  },
  "language_info": {
   "codemirror_mode": {
    "name": "ipython",
    "version": 3
   },
   "file_extension": ".py",
   "mimetype": "text/x-python",
   "name": "python",
   "nbconvert_exporter": "python",
   "pygments_lexer": "ipython3",
   "version": "3.9.7"
  }
 },
 "nbformat": 4,
 "nbformat_minor": 5
}
